{
 "cells": [
  {
   "cell_type": "markdown",
   "metadata": {},
   "source": [
    "# Tarea:\n",
    "\n",
    "* Agrupar por sector (limpiar los datos)\n",
    "* Entrenar una regresión Logística y encontrar los mejores hiperparámetros\n",
    "* Probar cross-validation\n",
    "* Graficar Precision-Recall curve"
   ]
  },
  {
   "cell_type": "code",
   "execution_count": 1,
   "metadata": {},
   "outputs": [],
   "source": [
    "import matplotlib.pyplot as plt\n",
    "import numpy as np\n",
    "import pandas as pd\n",
    "from sklearn.linear_model import LogisticRegression\n",
    "from sklearn.model_selection import train_test_split, cross_validate, cross_val_score\n",
    "from sklearn.metrics import confusion_matrix\n",
    "from sklearn.metrics import accuracy_score,precision_score, recall_score, f1_score\n",
    "from sklearn.metrics import precision_recall_curve, roc_curve\n",
    "import plotly.express as px\n",
    "from sklearn.model_selection import GridSearchCV\n",
    "from sklearn.preprocessing import PolynomialFeatures\n",
    "from sklearn.pipeline import Pipeline"
   ]
  },
  {
   "cell_type": "markdown",
   "metadata": {},
   "source": [
    "### Carga de datos"
   ]
  },
  {
   "cell_type": "code",
   "execution_count": 2,
   "metadata": {},
   "outputs": [],
   "source": [
    "ipc_path = \"ipc.xlsx\" # Modificar a ruta\n",
    "market = pd.read_excel(ipc_path, index_col=0)\n",
    "market.columns = [c.replace(\" MF Equity\", \"\").replace(\" INDEX\", \"\").replace(\"*\", \"\") for c in market.columns]"
   ]
  },
  {
   "cell_type": "code",
   "execution_count": 3,
   "metadata": {},
   "outputs": [
    {
     "name": "stdout",
     "output_type": "stream",
     "text": [
      "0    490\n",
      "1    182\n",
      "Name: MEXBOL, dtype: int64 (672, 36)\n"
     ]
    }
   ],
   "source": [
    "Rmkt = market.pct_change().dropna()\n",
    "y = (Rmkt[\"MEXBOL\"].pct_change() > 0).astype(int)\n",
    "X = Rmkt.drop(\"MEXBOL\", axis=1).join(y, how=\"inner\")\n",
    "\n",
    "y = X[\"MEXBOL\"]\n",
    "X = X.drop(\"MEXBOL\", axis=1)\n",
    "print(y.value_counts(),Rmkt.shape)"
   ]
  },
  {
   "cell_type": "markdown",
   "metadata": {},
   "source": [
    "### Carga de archivo con agrupaciones"
   ]
  },
  {
   "cell_type": "code",
   "execution_count": 5,
   "metadata": {},
   "outputs": [],
   "source": [
    "emi = pd.DataFrame(X.columns).set_index(0)\n",
    "ref = pd.read_csv(\"bmv_emisoras.csv\", index_col=0,encoding=\"utf-8\")\n",
    "ref.drop(['Teléfono','Relación con Inversionistas','Actividad Economica','E-mail', 'Fax', 'Fecha de Constitución', 'Fecha de listado en BMV','Historia de la Empresa','Oficinas Corporativas','Principales Productos y/o Servicios'],axis=1,inplace=True)\n",
    "emisoras = emi.join(ref, how='inner')"
   ]
  },
  {
   "cell_type": "markdown",
   "metadata": {},
   "source": [
    "<h3 style=\"color:Tomato;\">Agrupación por sector</h1>"
   ]
  },
  {
   "cell_type": "code",
   "execution_count": 6,
   "metadata": {},
   "outputs": [
    {
     "data": {
      "text/html": [
       "<div>\n",
       "<style scoped>\n",
       "    .dataframe tbody tr th:only-of-type {\n",
       "        vertical-align: middle;\n",
       "    }\n",
       "\n",
       "    .dataframe tbody tr th {\n",
       "        vertical-align: top;\n",
       "    }\n",
       "\n",
       "    .dataframe thead th {\n",
       "        text-align: right;\n",
       "    }\n",
       "</style>\n",
       "<table border=\"1\" class=\"dataframe\">\n",
       "  <thead>\n",
       "    <tr style=\"text-align: right;\">\n",
       "      <th>Sector</th>\n",
       "      <th>ENERGÍA</th>\n",
       "      <th>INDUSTRIAL</th>\n",
       "      <th>MATERIALES</th>\n",
       "      <th>PRODUCTOS DE CONSUMO FRECUENTE</th>\n",
       "      <th>SALUD</th>\n",
       "      <th>SERVICIOS DE TELECOMUNICACIONES</th>\n",
       "      <th>SERVICIOS FINANCIEROS</th>\n",
       "      <th>SERVICIOS Y BIENES DE CONSUMO NO BÁSICO</th>\n",
       "    </tr>\n",
       "    <tr>\n",
       "      <th>DATE</th>\n",
       "      <th></th>\n",
       "      <th></th>\n",
       "      <th></th>\n",
       "      <th></th>\n",
       "      <th></th>\n",
       "      <th></th>\n",
       "      <th></th>\n",
       "      <th></th>\n",
       "    </tr>\n",
       "  </thead>\n",
       "  <tbody>\n",
       "    <tr>\n",
       "      <td>2017-06-08</td>\n",
       "      <td>-0.000341</td>\n",
       "      <td>0.000439</td>\n",
       "      <td>0.004354</td>\n",
       "      <td>-0.006015</td>\n",
       "      <td>0.006852</td>\n",
       "      <td>-0.005709</td>\n",
       "      <td>-0.000570</td>\n",
       "      <td>0.007945</td>\n",
       "    </tr>\n",
       "    <tr>\n",
       "      <td>2017-06-09</td>\n",
       "      <td>0.001708</td>\n",
       "      <td>-0.003777</td>\n",
       "      <td>0.011521</td>\n",
       "      <td>-0.006060</td>\n",
       "      <td>-0.008082</td>\n",
       "      <td>-0.001745</td>\n",
       "      <td>-0.004182</td>\n",
       "      <td>0.016661</td>\n",
       "    </tr>\n",
       "    <tr>\n",
       "      <td>2017-06-12</td>\n",
       "      <td>0.004319</td>\n",
       "      <td>0.002034</td>\n",
       "      <td>-0.006207</td>\n",
       "      <td>0.004485</td>\n",
       "      <td>-0.011578</td>\n",
       "      <td>0.003777</td>\n",
       "      <td>0.004639</td>\n",
       "      <td>0.009951</td>\n",
       "    </tr>\n",
       "    <tr>\n",
       "      <td>2017-06-13</td>\n",
       "      <td>0.039040</td>\n",
       "      <td>0.008069</td>\n",
       "      <td>-0.002084</td>\n",
       "      <td>-0.006677</td>\n",
       "      <td>-0.003905</td>\n",
       "      <td>-0.004019</td>\n",
       "      <td>-0.000636</td>\n",
       "      <td>0.000536</td>\n",
       "    </tr>\n",
       "    <tr>\n",
       "      <td>2017-06-14</td>\n",
       "      <td>0.028861</td>\n",
       "      <td>0.011743</td>\n",
       "      <td>0.003354</td>\n",
       "      <td>0.003949</td>\n",
       "      <td>0.001307</td>\n",
       "      <td>0.001642</td>\n",
       "      <td>0.011262</td>\n",
       "      <td>0.000853</td>\n",
       "    </tr>\n",
       "  </tbody>\n",
       "</table>\n",
       "</div>"
      ],
      "text/plain": [
       "Sector       ENERGÍA  INDUSTRIAL  MATERIALES  PRODUCTOS DE CONSUMO FRECUENTE  \\\n",
       "DATE                                                                           \n",
       "2017-06-08 -0.000341    0.000439    0.004354                       -0.006015   \n",
       "2017-06-09  0.001708   -0.003777    0.011521                       -0.006060   \n",
       "2017-06-12  0.004319    0.002034   -0.006207                        0.004485   \n",
       "2017-06-13  0.039040    0.008069   -0.002084                       -0.006677   \n",
       "2017-06-14  0.028861    0.011743    0.003354                        0.003949   \n",
       "\n",
       "Sector         SALUD  SERVICIOS DE TELECOMUNICACIONES  SERVICIOS FINANCIEROS  \\\n",
       "DATE                                                                           \n",
       "2017-06-08  0.006852                        -0.005709              -0.000570   \n",
       "2017-06-09 -0.008082                        -0.001745              -0.004182   \n",
       "2017-06-12 -0.011578                         0.003777               0.004639   \n",
       "2017-06-13 -0.003905                        -0.004019              -0.000636   \n",
       "2017-06-14  0.001307                         0.001642               0.011262   \n",
       "\n",
       "Sector      SERVICIOS Y BIENES DE CONSUMO NO BÁSICO  \n",
       "DATE                                                 \n",
       "2017-06-08                                 0.007945  \n",
       "2017-06-09                                 0.016661  \n",
       "2017-06-12                                 0.009951  \n",
       "2017-06-13                                 0.000536  \n",
       "2017-06-14                                 0.000853  "
      ]
     },
     "execution_count": 6,
     "metadata": {},
     "output_type": "execute_result"
    }
   ],
   "source": [
    "#X2 = X.groupby(emisoras[\"Ramo\"],axis = 1).mean()\n",
    "X = X.groupby(emisoras['Sector'],axis = 1).mean()\n",
    "#X2 = X.groupby(emisoras['Subramo'],axis = 1).mean()\n",
    "#X2 = X.groupby(emisoras['Subsector'],axis = 1).mean()\n",
    "\n",
    "X.head()"
   ]
  },
  {
   "cell_type": "code",
   "execution_count": null,
   "metadata": {},
   "outputs": [],
   "source": []
  },
  {
   "cell_type": "markdown",
   "metadata": {},
   "source": [
    "### Generar Train y test"
   ]
  },
  {
   "cell_type": "code",
   "execution_count": 21,
   "metadata": {},
   "outputs": [],
   "source": [
    "train_period = \"2019-06\"\n",
    "test_period = \"2019-07\"\n",
    "Xtrain, ytrain = X[:train_period], y[:train_period]\n",
    "Xtest, ytest = X[test_period:], y[test_period:]"
   ]
  },
  {
   "cell_type": "code",
   "execution_count": null,
   "metadata": {},
   "outputs": [],
   "source": []
  },
  {
   "cell_type": "code",
   "execution_count": 22,
   "metadata": {},
   "outputs": [
    {
     "name": "stdout",
     "output_type": "stream",
     "text": [
      "0    490\n",
      "1    182\n",
      "Name: MEXBOL, dtype: int64\n",
      "0    391\n",
      "1    146\n",
      "Name: MEXBOL, dtype: int64\n",
      "0    99\n",
      "1    36\n",
      "Name: MEXBOL, dtype: int64\n"
     ]
    }
   ],
   "source": [
    "print(y.value_counts())\n",
    "print(ytrain.value_counts())\n",
    "print(ytest.value_counts())"
   ]
  },
  {
   "cell_type": "code",
   "execution_count": 23,
   "metadata": {},
   "outputs": [
    {
     "name": "stdout",
     "output_type": "stream",
     "text": [
      "(672,)\n",
      "(537,)\n",
      "(135,)\n"
     ]
    }
   ],
   "source": [
    "print(y.shape)\n",
    "print(ytrain.shape)\n",
    "print(ytest.shape)"
   ]
  },
  {
   "cell_type": "markdown",
   "metadata": {},
   "source": [
    "### Modelo"
   ]
  },
  {
   "cell_type": "code",
   "execution_count": 27,
   "metadata": {},
   "outputs": [],
   "source": [
    "# paso 1: importar el modelo\n",
    "from sklearn.linear_model import LogisticRegression\n",
    "# paso 2: inicializar el modelo (con sus hiperparámetros)\n",
    "model = LogisticRegression()\n",
    "\n"
   ]
  },
  {
   "cell_type": "code",
   "execution_count": 28,
   "metadata": {},
   "outputs": [],
   "source": [
    "# paso 3: \"entrenar\" el modelo\n",
    "#Pipe\n",
    "pipe = Pipeline([\n",
    "    (\"poly\", PolynomialFeatures()),\n",
    "    (\"model\",LogisticRegression())\n",
    "])"
   ]
  },
  {
   "cell_type": "code",
   "execution_count": 29,
   "metadata": {},
   "outputs": [],
   "source": [
    "#Grid\n",
    "Cs = np.linspace(0.,1,21)[1:]\n",
    "params = {\n",
    "    \"model__solver\": ['newton-cg', 'sag', 'saga' ,'lbfgs'],\n",
    "    \"model__warm_start\":[True,False],\n",
    "    \"model__C\": Cs,\n",
    "    \"poly__degree\":[1,2,3],\n",
    "    \"poly__include_bias\":[True,False]\n",
    "}\n",
    "gcv = GridSearchCV(pipe, params, scoring=\"r2\",cv=5)\n"
   ]
  },
  {
   "cell_type": "code",
   "execution_count": 30,
   "metadata": {},
   "outputs": [
    {
     "data": {
      "text/plain": [
       "GridSearchCV(cv=5, error_score='raise-deprecating',\n",
       "             estimator=Pipeline(memory=None,\n",
       "                                steps=[('poly',\n",
       "                                        PolynomialFeatures(degree=2,\n",
       "                                                           include_bias=True,\n",
       "                                                           interaction_only=False,\n",
       "                                                           order='C')),\n",
       "                                       ('model',\n",
       "                                        LogisticRegression(C=1.0,\n",
       "                                                           class_weight=None,\n",
       "                                                           dual=False,\n",
       "                                                           fit_intercept=True,\n",
       "                                                           intercept_scaling=1,\n",
       "                                                           l1_ratio=None,\n",
       "                                                           max_iter=100,\n",
       "                                                           multi_class='warn',\n",
       "                                                           n_jobs=None,\n",
       "                                                           penalty='l2',...\n",
       "             iid='warn', n_jobs=None,\n",
       "             param_grid={'model__C': array([0.05, 0.1 , 0.15, 0.2 , 0.25, 0.3 , 0.35, 0.4 , 0.45, 0.5 , 0.55,\n",
       "       0.6 , 0.65, 0.7 , 0.75, 0.8 , 0.85, 0.9 , 0.95, 1.  ]),\n",
       "                         'model__solver': ['newton-cg', 'sag', 'saga', 'lbfgs'],\n",
       "                         'model__warm_start': [True, False],\n",
       "                         'poly__degree': [1, 2, 3],\n",
       "                         'poly__include_bias': [True, False]},\n",
       "             pre_dispatch='2*n_jobs', refit=True, return_train_score=False,\n",
       "             scoring='r2', verbose=0)"
      ]
     },
     "execution_count": 30,
     "metadata": {},
     "output_type": "execute_result"
    }
   ],
   "source": [
    "gcv.fit(Xtrain, ytrain)"
   ]
  },
  {
   "cell_type": "markdown",
   "metadata": {},
   "source": [
    "<h3 style=\"color:Tomato;\">mejores parámetros</h1>"
   ]
  },
  {
   "cell_type": "code",
   "execution_count": 31,
   "metadata": {},
   "outputs": [
    {
     "data": {
      "text/plain": [
       "{'model__C': 0.05,\n",
       " 'model__solver': 'newton-cg',\n",
       " 'model__warm_start': True,\n",
       " 'poly__degree': 1,\n",
       " 'poly__include_bias': True}"
      ]
     },
     "execution_count": 31,
     "metadata": {},
     "output_type": "execute_result"
    }
   ],
   "source": [
    "gcv.best_params_"
   ]
  },
  {
   "cell_type": "markdown",
   "metadata": {},
   "source": [
    "<h3 style=\"color:Tomato;\">cross validation</h1>"
   ]
  },
  {
   "cell_type": "code",
   "execution_count": 82,
   "metadata": {},
   "outputs": [
    {
     "data": {
      "text/plain": [
       "0.7281316985338249"
      ]
     },
     "execution_count": 82,
     "metadata": {},
     "output_type": "execute_result"
    }
   ],
   "source": [
    "res = cross_validate(gcv,Xtrain,ytrain,scoring=\"accuracy\",cv=5)\n",
    "res[\"test_score\"].mean()"
   ]
  },
  {
   "cell_type": "markdown",
   "metadata": {},
   "source": [
    "<h3 style=\"color:Tomato;\">Precision-Recall curve</h1>"
   ]
  },
  {
   "cell_type": "code",
   "execution_count": 34,
   "metadata": {},
   "outputs": [
    {
     "data": {
      "text/plain": [
       "array([[99,  0],\n",
       "       [36,  0]], dtype=int64)"
      ]
     },
     "execution_count": 34,
     "metadata": {},
     "output_type": "execute_result"
    }
   ],
   "source": [
    "yhat = gcv.predict(Xtest)\n",
    "cm = confusion_matrix(ytest, yhat, labels=[0, 1])\n",
    "cm"
   ]
  },
  {
   "cell_type": "code",
   "execution_count": 78,
   "metadata": {},
   "outputs": [
    {
     "data": {
      "text/plain": [
       "Text(0.5, 0, 'Nivel de proba asignada')"
      ]
     },
     "execution_count": 78,
     "metadata": {},
     "output_type": "execute_result"
    },
    {
     "data": {
      "image/png": "[encoded data removed]",
      "text/plain": [
       "<Figure size 432x288 with 1 Axes>"
      ]
     },
     "metadata": {
      "needs_background": "light"
     },
     "output_type": "display_data"
    }
   ],
   "source": [
    "proba_estimate = gcv.predict_proba(Xtest)[:, 1]\n",
    "prec, recall, threshold = precision_recall_curve(ytest, proba_estimate)\n",
    "\n",
    "plt.plot(threshold, prec[:-1], label=\"precision\")\n",
    "plt.plot(threshold, recall[:-1], label=\"recall\")\n",
    "plt.legend()\n",
    "#plt.axvline(x=0.5, linestyle=\"--\", c=\"black\")\n",
    "plt.axhline(y=0.5, linestyle=\"--\", c=\"black\")\n",
    "plt.xlabel(\"Nivel de proba asignada\")"
   ]
  },
  {
   "cell_type": "markdown",
   "metadata": {},
   "source": [
    "### curva ROC"
   ]
  },
  {
   "cell_type": "code",
   "execution_count": 64,
   "metadata": {},
   "outputs": [],
   "source": [
    "probs = gcv.predict_proba(Xtest)\n",
    "prob = probs[:,1]\n",
    "\n",
    "prob_df = pd.DataFrame(prob)\n",
    "\n",
    "threshold = 0.5\n",
    "\n",
    "prob_df[\"pred_thr\"] = np.where(prob_df[0]>threshold, 1, 0)\n",
    "prob_df[\"actual\"] = list(ytest)\n",
    "prob_df[\"pred_mod\"] = list(yhat)\n",
    "prob_df.rename(columns={0: \"prob\"},inplace=True)"
   ]
  },
  {
   "cell_type": "code",
   "execution_count": 67,
   "metadata": {},
   "outputs": [
    {
     "data": {
      "text/plain": [
       "(0.27173014926606387, 0.2720188649442299)"
      ]
     },
     "execution_count": 67,
     "metadata": {},
     "output_type": "execute_result"
    }
   ],
   "source": [
    "prob_df.prob.min(),prob_df.prob.max()\n"
   ]
  },
  {
   "cell_type": "code",
   "execution_count": 79,
   "metadata": {},
   "outputs": [
    {
     "name": "stderr",
     "output_type": "stream",
     "text": [
      "D:\\Programs\\Anaconda\\lib\\site-packages\\ipykernel_launcher.py:18: RuntimeWarning:\n",
      "\n",
      "invalid value encountered in longlong_scalars\n",
      "\n",
      "D:\\Programs\\Anaconda\\lib\\site-packages\\ipykernel_launcher.py:20: RuntimeWarning:\n",
      "\n",
      "divide by zero encountered in double_scalars\n",
      "\n"
     ]
    }
   ],
   "source": [
    "thresholds = np.linspace(0.,1,1000)\n",
    "\n",
    "sensitivities = []\n",
    "especifities_1 = []\n",
    "\n",
    "for t in thresholds:\n",
    "    prob_df[\"pred_thr\"] = np.where(prob_df['prob']>=t,1,0)\n",
    "    prob_df[\"actual\"] = list(ytest)\n",
    "    prob_df.head()\n",
    "\n",
    "    conf_m = confusion_matrix(prob_df[\"actual\"], prob_df[\"pred_thr\"], labels=[0, 1])\n",
    "\n",
    "    TP2 = conf_m[0,0]\n",
    "    FP2 = conf_m[1,0]\n",
    "    TN2 = conf_m[0,1]\n",
    "    FN2 = conf_m[1,1]\n",
    "    \n",
    "    Pre2 = (TP2/(TP2+FP2))\n",
    "    Rec2 = (TP2/(TP2+FN2))\n",
    "    F12 = (2/(1/Rec2+1/Pre2))\n",
    "    sens2 = TP2/(TP2+FN2)\n",
    "    sensitivities.append(sens2)\n",
    "    espc_12 = 1-(TN2/(TN2+FP2))\n",
    "    especifities_1.append(espc_12)"
   ]
  },
  {
   "cell_type": "code",
   "execution_count": 80,
   "metadata": {},
   "outputs": [],
   "source": [
    "ex,sx,_ = roc_curve(ytest,prob)"
   ]
  },
  {
   "cell_type": "code",
   "execution_count": 81,
   "metadata": {},
   "outputs": [
    {
     "data": {
      "text/plain": [
       "Text(0.5, 1.0, 'cruva ROC')"
      ]
     },
     "execution_count": 81,
     "metadata": {},
     "output_type": "execute_result"
    },
    {
     "data": {
      "image/png": "[encoded data removed]",
      "text/plain": [
       "<Figure size 432x288 with 1 Axes>"
      ]
     },
     "metadata": {
      "needs_background": "light"
     },
     "output_type": "display_data"
    }
   ],
   "source": [
    "plt.plot(ex, sx,linestyle='--',color='r')\n",
    "x=[i*0.01 for i in range(100)]\n",
    "y=[i*0.01 for i in range(100)]\n",
    "plt.plot(x,y)\n",
    "plt.xlabel(\"1-especifidad\")\n",
    "plt.ylabel(\"sensibilidad\")\n",
    "plt.title(\"curva ROC\")"
   ]
  },
  {
   "cell_type": "code",
   "execution_count": null,
   "metadata": {},
   "outputs": [],
   "source": []
  }
 ],
 "metadata": {
  "kernelspec": {
   "display_name": "Python 3",
   "language": "python",
   "name": "python3"
  },
  "language_info": {
   "codemirror_mode": {
    "name": "ipython",
    "version": 3
   },
   "file_extension": ".py",
   "mimetype": "text/x-python",
   "name": "python",
   "nbconvert_exporter": "python",
   "pygments_lexer": "ipython3",
   "version": "3.7.4"
  }
 },
 "nbformat": 4,
 "nbformat_minor": 4
}
