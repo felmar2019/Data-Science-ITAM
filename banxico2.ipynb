{
 "cells": [
  {
   "cell_type": "code",
   "execution_count": 53,
   "metadata": {},
   "outputs": [],
   "source": [
    "import re\n",
    "import os\n",
    "import pandas as pd\n",
    "import matplotlib.pyplot as plt\n",
    "import numpy as np\n",
    "import string\n",
    "import requests\n",
    "import nltk\n",
    "import PyPDF2\n",
    "from PyPDF2 import PdfFileWriter, PdfFileReader\n",
    "from nltk.tokenize import word_tokenize\n",
    "from nltk.corpus import stopwords\n",
    "from unidecode import unidecode\n",
    "from requests_html import HTMLSession\n",
    "from collections import defaultdict\n",
    "from datetime import datetime\n",
    "from nltk.stem import SnowballStemmer\n",
    "from sklearn.model_selection import train_test_split\n",
    "import seaborn as sns"
   ]
  },
  {
   "cell_type": "code",
   "execution_count": 2,
   "metadata": {},
   "outputs": [
    {
     "data": {
      "text/plain": [
       "['../modulo3/descargas_Pdf/comunicado_111419.pdf',\n",
       " '../modulo3/descargas_Pdf/comunicado_111518.pdf',\n",
       " '../modulo3/descargas_Pdf/comunicado_111716.pdf',\n",
       " '../modulo3/descargas_Pdf/comunicado_112610.pdf',\n",
       " '../modulo3/descargas_Pdf/comunicado_112709.pdf']"
      ]
     },
     "execution_count": 2,
     "metadata": {},
     "output_type": "execute_result"
    }
   ],
   "source": [
    "listaPdfs = os.listdir('../modulo3/descargas_Pdf/')\n",
    "listaPdfs[90:95]\n",
    "lis_fullpath = ['../modulo3/descargas_Pdf/' + x for x in listaPdfs]\n",
    "lis_fullpath[90:95]"
   ]
  },
  {
   "cell_type": "code",
   "execution_count": 3,
   "metadata": {},
   "outputs": [
    {
     "data": {
      "text/html": [
       "<div>\n",
       "<style scoped>\n",
       "    .dataframe tbody tr th:only-of-type {\n",
       "        vertical-align: middle;\n",
       "    }\n",
       "\n",
       "    .dataframe tbody tr th {\n",
       "        vertical-align: top;\n",
       "    }\n",
       "\n",
       "    .dataframe thead th {\n",
       "        text-align: right;\n",
       "    }\n",
       "</style>\n",
       "<table border=\"1\" class=\"dataframe\">\n",
       "  <thead>\n",
       "    <tr style=\"text-align: right;\">\n",
       "      <th></th>\n",
       "      <th>text</th>\n",
       "      <th>url</th>\n",
       "      <th>category</th>\n",
       "      <th>cat_num</th>\n",
       "    </tr>\n",
       "    <tr>\n",
       "      <th>date</th>\n",
       "      <th></th>\n",
       "      <th></th>\n",
       "      <th></th>\n",
       "      <th></th>\n",
       "    </tr>\n",
       "  </thead>\n",
       "  <tbody>\n",
       "    <tr>\n",
       "      <td>2020-02-13</td>\n",
       "      <td>El objetivo para la Tasa de Inter�s Interbanca...</td>\n",
       "      <td>https://www.banxico.org.mx/publicaciones-y-pre...</td>\n",
       "      <td>disminuye</td>\n",
       "      <td>-1</td>\n",
       "    </tr>\n",
       "    <tr>\n",
       "      <td>2019-12-19</td>\n",
       "      <td>El objetivo para la Tasa de Inter�s Interbanca...</td>\n",
       "      <td>https://www.banxico.org.mx/publicaciones-y-pre...</td>\n",
       "      <td>disminuye</td>\n",
       "      <td>-1</td>\n",
       "    </tr>\n",
       "    <tr>\n",
       "      <td>2019-11-14</td>\n",
       "      <td>El objetivo para la Tasa de Inter�s Interbanca...</td>\n",
       "      <td>https://www.banxico.org.mx/publicaciones-y-pre...</td>\n",
       "      <td>disminuye</td>\n",
       "      <td>-1</td>\n",
       "    </tr>\n",
       "    <tr>\n",
       "      <td>2019-09-26</td>\n",
       "      <td>El objetivo para la Tasa de Inter�s Interbanca...</td>\n",
       "      <td>https://www.banxico.org.mx/publicaciones-y-pre...</td>\n",
       "      <td>disminuye</td>\n",
       "      <td>-1</td>\n",
       "    </tr>\n",
       "    <tr>\n",
       "      <td>2019-08-15</td>\n",
       "      <td>El objetivo para la Tasa de Inter�s Interbanca...</td>\n",
       "      <td>https://www.banxico.org.mx/publicaciones-y-pre...</td>\n",
       "      <td>disminuye</td>\n",
       "      <td>-1</td>\n",
       "    </tr>\n",
       "  </tbody>\n",
       "</table>\n",
       "</div>"
      ],
      "text/plain": [
       "                                                         text  \\\n",
       "date                                                            \n",
       "2020-02-13  El objetivo para la Tasa de Inter�s Interbanca...   \n",
       "2019-12-19  El objetivo para la Tasa de Inter�s Interbanca...   \n",
       "2019-11-14  El objetivo para la Tasa de Inter�s Interbanca...   \n",
       "2019-09-26  El objetivo para la Tasa de Inter�s Interbanca...   \n",
       "2019-08-15  El objetivo para la Tasa de Inter�s Interbanca...   \n",
       "\n",
       "                                                          url   category  \\\n",
       "date                                                                       \n",
       "2020-02-13  https://www.banxico.org.mx/publicaciones-y-pre...  disminuye   \n",
       "2019-12-19  https://www.banxico.org.mx/publicaciones-y-pre...  disminuye   \n",
       "2019-11-14  https://www.banxico.org.mx/publicaciones-y-pre...  disminuye   \n",
       "2019-09-26  https://www.banxico.org.mx/publicaciones-y-pre...  disminuye   \n",
       "2019-08-15  https://www.banxico.org.mx/publicaciones-y-pre...  disminuye   \n",
       "\n",
       "            cat_num  \n",
       "date                 \n",
       "2020-02-13       -1  \n",
       "2019-12-19       -1  \n",
       "2019-11-14       -1  \n",
       "2019-09-26       -1  \n",
       "2019-08-15       -1  "
      ]
     },
     "execution_count": 3,
     "metadata": {},
     "output_type": "execute_result"
    }
   ],
   "source": [
    "#continuar con la base creada\n",
    "data = pd.read_pickle(\"resumen_comunicados.pkl\")\n",
    "data.head()"
   ]
  },
  {
   "cell_type": "code",
   "execution_count": 4,
   "metadata": {},
   "outputs": [],
   "source": [
    "# crear funciones de lectura de pdf y limpieza de texto\n",
    "def ext_texto(documento):\n",
    "    with open(documento, mode='rb') as f:\n",
    "        reader = PdfFileReader(f)\n",
    "        for page in reader.pages:\n",
    "            pass\n",
    "        return page.extractText()\n",
    "def limpieza(page_content):\n",
    "    evitar = [\"reducir\",\"mantener\",\"incremetar\"]\n",
    "    stop_words = stopwords.words('spanish')\n",
    "    re_punc = re.compile('[%s]' % re.escape(string.punctuation))\n",
    "    \n",
    "    tokens = word_tokenize(page_content)\n",
    "    words = tokens\n",
    "    words = [word for word in words if word.isalpha()]\n",
    "    words = [w.lower() for w in words]\n",
    "    words = [re_punc.sub('', w) for w in words]\n",
    "    words = [w for w in words if not w in stop_words]\n",
    "    words = [unidecode(w) for w in words]\n",
    "    #words = [w for w in words if len(w) > 2]\n",
    "    words = [w for w in words if not w in evitar]\n",
    "    #words = [spa_stemmer.stem(word) for word in words]\n",
    "    return words"
   ]
  },
  {
   "cell_type": "code",
   "execution_count": 5,
   "metadata": {},
   "outputs": [],
   "source": [
    "data[\"pdf\"] = [\"comunicado_\"+datetime.strftime(x, '%m%d%y')+\".pdf\" for x in data.index]"
   ]
  },
  {
   "cell_type": "code",
   "execution_count": 6,
   "metadata": {},
   "outputs": [
    {
     "name": "stderr",
     "output_type": "stream",
     "text": [
      "PdfReadWarning: Xref table not zero-indexed. ID numbers for objects will be corrected. [pdf.py:1736]\n"
     ]
    }
   ],
   "source": [
    "#agregar al DF la bolsa de palabras de cada documento\n",
    "contenidos = []\n",
    "for pdf in data.pdf:\n",
    "    path = '../modulo3/descargas_Pdf/'+pdf\n",
    "    page_content = ext_texto(path)\n",
    "    cont = limpieza(page_content)\n",
    "    contenidos.append(cont)\n",
    "    \n",
    "data[\"words\"] = contenidos"
   ]
  },
  {
   "cell_type": "code",
   "execution_count": 7,
   "metadata": {},
   "outputs": [
    {
     "data": {
      "text/html": [
       "<div>\n",
       "<style scoped>\n",
       "    .dataframe tbody tr th:only-of-type {\n",
       "        vertical-align: middle;\n",
       "    }\n",
       "\n",
       "    .dataframe tbody tr th {\n",
       "        vertical-align: top;\n",
       "    }\n",
       "\n",
       "    .dataframe thead th {\n",
       "        text-align: right;\n",
       "    }\n",
       "</style>\n",
       "<table border=\"1\" class=\"dataframe\">\n",
       "  <thead>\n",
       "    <tr style=\"text-align: right;\">\n",
       "      <th></th>\n",
       "      <th>text</th>\n",
       "      <th>url</th>\n",
       "      <th>category</th>\n",
       "      <th>cat_num</th>\n",
       "      <th>pdf</th>\n",
       "      <th>words</th>\n",
       "    </tr>\n",
       "    <tr>\n",
       "      <th>date</th>\n",
       "      <th></th>\n",
       "      <th></th>\n",
       "      <th></th>\n",
       "      <th></th>\n",
       "      <th></th>\n",
       "      <th></th>\n",
       "    </tr>\n",
       "  </thead>\n",
       "  <tbody>\n",
       "    <tr>\n",
       "      <td>2020-02-13</td>\n",
       "      <td>El objetivo para la Tasa de Inter�s Interbanca...</td>\n",
       "      <td>https://www.banxico.org.mx/publicaciones-y-pre...</td>\n",
       "      <td>disminuye</td>\n",
       "      <td>-1</td>\n",
       "      <td>comunicado_021320.pdf</td>\n",
       "      <td>[comunicado, prensa, febrero, anuncio, politic...</td>\n",
       "    </tr>\n",
       "    <tr>\n",
       "      <td>2019-12-19</td>\n",
       "      <td>El objetivo para la Tasa de Inter�s Interbanca...</td>\n",
       "      <td>https://www.banxico.org.mx/publicaciones-y-pre...</td>\n",
       "      <td>disminuye</td>\n",
       "      <td>-1</td>\n",
       "      <td>comunicado_121919.pdf</td>\n",
       "      <td>[ligeras, reducciones, ubicarse, s, expectativ...</td>\n",
       "    </tr>\n",
       "    <tr>\n",
       "      <td>2019-11-14</td>\n",
       "      <td>El objetivo para la Tasa de Inter�s Interbanca...</td>\n",
       "      <td>https://www.banxico.org.mx/publicaciones-y-pre...</td>\n",
       "      <td>disminuye</td>\n",
       "      <td>-1</td>\n",
       "      <td>comunicado_111419.pdf</td>\n",
       "      <td>[inflacion, general, octubre, destaca, subindi...</td>\n",
       "    </tr>\n",
       "    <tr>\n",
       "      <td>2019-09-26</td>\n",
       "      <td>El objetivo para la Tasa de Inter�s Interbanca...</td>\n",
       "      <td>https://www.banxico.org.mx/publicaciones-y-pre...</td>\n",
       "      <td>disminuye</td>\n",
       "      <td>-1</td>\n",
       "      <td>comunicado_092619.pdf</td>\n",
       "      <td>[reciente, mientras, mayor, plazo, perm, aneci...</td>\n",
       "    </tr>\n",
       "    <tr>\n",
       "      <td>2019-08-15</td>\n",
       "      <td>El objetivo para la Tasa de Inter�s Interbanca...</td>\n",
       "      <td>https://www.banxico.org.mx/publicaciones-y-pre...</td>\n",
       "      <td>disminuye</td>\n",
       "      <td>-1</td>\n",
       "      <td>comunicado_081519.pdf</td>\n",
       "      <td>[junta, mantendra, postura, monetaria, prudent...</td>\n",
       "    </tr>\n",
       "  </tbody>\n",
       "</table>\n",
       "</div>"
      ],
      "text/plain": [
       "                                                         text  \\\n",
       "date                                                            \n",
       "2020-02-13  El objetivo para la Tasa de Inter�s Interbanca...   \n",
       "2019-12-19  El objetivo para la Tasa de Inter�s Interbanca...   \n",
       "2019-11-14  El objetivo para la Tasa de Inter�s Interbanca...   \n",
       "2019-09-26  El objetivo para la Tasa de Inter�s Interbanca...   \n",
       "2019-08-15  El objetivo para la Tasa de Inter�s Interbanca...   \n",
       "\n",
       "                                                          url   category  \\\n",
       "date                                                                       \n",
       "2020-02-13  https://www.banxico.org.mx/publicaciones-y-pre...  disminuye   \n",
       "2019-12-19  https://www.banxico.org.mx/publicaciones-y-pre...  disminuye   \n",
       "2019-11-14  https://www.banxico.org.mx/publicaciones-y-pre...  disminuye   \n",
       "2019-09-26  https://www.banxico.org.mx/publicaciones-y-pre...  disminuye   \n",
       "2019-08-15  https://www.banxico.org.mx/publicaciones-y-pre...  disminuye   \n",
       "\n",
       "            cat_num                    pdf  \\\n",
       "date                                         \n",
       "2020-02-13       -1  comunicado_021320.pdf   \n",
       "2019-12-19       -1  comunicado_121919.pdf   \n",
       "2019-11-14       -1  comunicado_111419.pdf   \n",
       "2019-09-26       -1  comunicado_092619.pdf   \n",
       "2019-08-15       -1  comunicado_081519.pdf   \n",
       "\n",
       "                                                        words  \n",
       "date                                                           \n",
       "2020-02-13  [comunicado, prensa, febrero, anuncio, politic...  \n",
       "2019-12-19  [ligeras, reducciones, ubicarse, s, expectativ...  \n",
       "2019-11-14  [inflacion, general, octubre, destaca, subindi...  \n",
       "2019-09-26  [reciente, mientras, mayor, plazo, perm, aneci...  \n",
       "2019-08-15  [junta, mantendra, postura, monetaria, prudent...  "
      ]
     },
     "execution_count": 7,
     "metadata": {},
     "output_type": "execute_result"
    }
   ],
   "source": [
    "data.head()"
   ]
  },
  {
   "cell_type": "code",
   "execution_count": 10,
   "metadata": {},
   "outputs": [],
   "source": [
    "#Crear la bolsa de palabras de cada clase y cada documento\n",
    "D1 = data.loc[data.category =='disminuye',[\"category\",\"words\"]]\n",
    "D2 = data.loc[data.category =='incrementa',[\"category\",\"words\"]]\n",
    "D3 = data.loc[data.category =='sin cambio',[\"category\",\"words\"]]"
   ]
  },
  {
   "cell_type": "code",
   "execution_count": 11,
   "metadata": {},
   "outputs": [],
   "source": [
    "#crear las lostas de entrenamiento y test\n",
    "D1, D1_test = train_test_split(D1, test_size = 0.2)\n",
    "D2, D2_test = train_test_split(D2, test_size = 0.2)\n",
    "D3, D3_test = train_test_split(D3, test_size = 0.2)"
   ]
  },
  {
   "cell_type": "code",
   "execution_count": 12,
   "metadata": {},
   "outputs": [
    {
     "data": {
      "text/plain": [
       "82"
      ]
     },
     "execution_count": 12,
     "metadata": {},
     "output_type": "execute_result"
    }
   ],
   "source": [
    "#Nk\n",
    "N1 = len(D1)\n",
    "N2 = len(D2)\n",
    "N3 = len(D3)\n",
    "N = N1 + N2 + N3\n",
    "N"
   ]
  },
  {
   "cell_type": "code",
   "execution_count": 14,
   "metadata": {},
   "outputs": [],
   "source": [
    "#vectores de palabras por clase\n",
    "V1 = []\n",
    "V2 = []\n",
    "V3 = []\n",
    "for w in range(len(D1.words)):\n",
    "    pal = D1.words[w]\n",
    "    V1.extend(pal)\n",
    "for w in range(len(D2.words)):\n",
    "    pal = D2.words[w]\n",
    "    V2.extend(pal)\n",
    "for w in range(len(D3.words)):\n",
    "    pal = D3.words[w]\n",
    "    V3.extend(pal)"
   ]
  },
  {
   "cell_type": "code",
   "execution_count": 15,
   "metadata": {},
   "outputs": [
    {
     "name": "stdout",
     "output_type": "stream",
     "text": [
      "3514 2736 14362\n"
     ]
    }
   ],
   "source": [
    "#tamaño de los vectores de palabras\n",
    "print(len(V1),len(V2),len(V3))"
   ]
  },
  {
   "cell_type": "code",
   "execution_count": 16,
   "metadata": {},
   "outputs": [
    {
     "data": {
      "text/plain": [
       "0.3016505406943654"
      ]
     },
     "execution_count": 16,
     "metadata": {},
     "output_type": "execute_result"
    }
   ],
   "source": [
    "len(set(V1))/len(V1)"
   ]
  },
  {
   "cell_type": "code",
   "execution_count": 17,
   "metadata": {},
   "outputs": [
    {
     "data": {
      "text/plain": [
       "0.3223684210526316"
      ]
     },
     "execution_count": 17,
     "metadata": {},
     "output_type": "execute_result"
    }
   ],
   "source": [
    "len(set(V2))/len(V2)"
   ]
  },
  {
   "cell_type": "code",
   "execution_count": 18,
   "metadata": {},
   "outputs": [
    {
     "data": {
      "text/plain": [
       "0.16299958223088706"
      ]
     },
     "execution_count": 18,
     "metadata": {},
     "output_type": "execute_result"
    }
   ],
   "source": [
    "len(set(V3))/len(V3)"
   ]
  },
  {
   "cell_type": "code",
   "execution_count": 19,
   "metadata": {},
   "outputs": [],
   "source": [
    "V = set(V1) | set(V2) | set(V3)"
   ]
  },
  {
   "cell_type": "code",
   "execution_count": 20,
   "metadata": {},
   "outputs": [],
   "source": [
    "vocabulario = pd.DataFrame(index=V)"
   ]
  },
  {
   "cell_type": "code",
   "execution_count": 21,
   "metadata": {},
   "outputs": [],
   "source": [
    "V1_c = pd.Series(V1, name = \"k1\").value_counts()\n",
    "V2_c = pd.Series(V2, name = \"k2\").value_counts()\n",
    "V3_c = pd.Series(V3, name = \"k3\").value_counts()"
   ]
  },
  {
   "cell_type": "code",
   "execution_count": 43,
   "metadata": {},
   "outputs": [
    {
     "name": "stdout",
     "output_type": "stream",
     "text": [
      "inflacion    120\n",
      "monetaria     46\n",
      "riesgos       40\n",
      "economia      35\n",
      "junta         34\n",
      "Name: k1, dtype: int64 inflacion       99\n",
      "monetaria       48\n",
      "precios         45\n",
      "expectativas    35\n",
      "objetivo        35\n",
      "Name: k2, dtype: int64 inflacion    507\n",
      "precios      220\n",
      "ciento       214\n",
      "monetaria    177\n",
      "objetivo     133\n",
      "Name: k3, dtype: int64\n"
     ]
    }
   ],
   "source": [
    "print(V1_c[:5],V2_c[:5],V3_c[:5])"
   ]
  },
  {
   "cell_type": "code",
   "execution_count": 23,
   "metadata": {},
   "outputs": [
    {
     "data": {
      "text/html": [
       "<div>\n",
       "<style scoped>\n",
       "    .dataframe tbody tr th:only-of-type {\n",
       "        vertical-align: middle;\n",
       "    }\n",
       "\n",
       "    .dataframe tbody tr th {\n",
       "        vertical-align: top;\n",
       "    }\n",
       "\n",
       "    .dataframe thead th {\n",
       "        text-align: right;\n",
       "    }\n",
       "</style>\n",
       "<table border=\"1\" class=\"dataframe\">\n",
       "  <thead>\n",
       "    <tr style=\"text-align: right;\">\n",
       "      <th></th>\n",
       "      <th>k1</th>\n",
       "      <th>k2</th>\n",
       "      <th>k3</th>\n",
       "    </tr>\n",
       "  </thead>\n",
       "  <tbody>\n",
       "    <tr>\n",
       "      <td>acomodar</td>\n",
       "      <td>0.000157</td>\n",
       "      <td>0.000179</td>\n",
       "      <td>0.000116</td>\n",
       "    </tr>\n",
       "    <tr>\n",
       "      <td>eleva</td>\n",
       "      <td>0.000627</td>\n",
       "      <td>0.000179</td>\n",
       "      <td>0.000174</td>\n",
       "    </tr>\n",
       "    <tr>\n",
       "      <td>otor</td>\n",
       "      <td>0.000157</td>\n",
       "      <td>0.000179</td>\n",
       "      <td>0.000116</td>\n",
       "    </tr>\n",
       "    <tr>\n",
       "      <td>resintio</td>\n",
       "      <td>0.000314</td>\n",
       "      <td>0.000179</td>\n",
       "      <td>0.000058</td>\n",
       "    </tr>\n",
       "    <tr>\n",
       "      <td>primarios</td>\n",
       "      <td>0.000314</td>\n",
       "      <td>0.000179</td>\n",
       "      <td>0.000116</td>\n",
       "    </tr>\n",
       "    <tr>\n",
       "      <td>...</td>\n",
       "      <td>...</td>\n",
       "      <td>...</td>\n",
       "      <td>...</td>\n",
       "    </tr>\n",
       "    <tr>\n",
       "      <td>vi</td>\n",
       "      <td>0.000470</td>\n",
       "      <td>0.000179</td>\n",
       "      <td>0.000058</td>\n",
       "    </tr>\n",
       "    <tr>\n",
       "      <td>acionales</td>\n",
       "      <td>0.000157</td>\n",
       "      <td>0.000179</td>\n",
       "      <td>0.000116</td>\n",
       "    </tr>\n",
       "    <tr>\n",
       "      <td>buena</td>\n",
       "      <td>0.000157</td>\n",
       "      <td>0.000357</td>\n",
       "      <td>0.000580</td>\n",
       "    </tr>\n",
       "    <tr>\n",
       "      <td>vio</td>\n",
       "      <td>0.000157</td>\n",
       "      <td>0.000357</td>\n",
       "      <td>0.000290</td>\n",
       "    </tr>\n",
       "    <tr>\n",
       "      <td>seguira</td>\n",
       "      <td>0.000314</td>\n",
       "      <td>0.001428</td>\n",
       "      <td>0.000639</td>\n",
       "    </tr>\n",
       "  </tbody>\n",
       "</table>\n",
       "<p>2865 rows × 3 columns</p>\n",
       "</div>"
      ],
      "text/plain": [
       "                 k1        k2        k3\n",
       "acomodar   0.000157  0.000179  0.000116\n",
       "eleva      0.000627  0.000179  0.000174\n",
       "otor       0.000157  0.000179  0.000116\n",
       "resintio   0.000314  0.000179  0.000058\n",
       "primarios  0.000314  0.000179  0.000116\n",
       "...             ...       ...       ...\n",
       "vi         0.000470  0.000179  0.000058\n",
       "acionales  0.000157  0.000179  0.000116\n",
       "buena      0.000157  0.000357  0.000580\n",
       "vio        0.000157  0.000357  0.000290\n",
       "seguira    0.000314  0.001428  0.000639\n",
       "\n",
       "[2865 rows x 3 columns]"
      ]
     },
     "execution_count": 23,
     "metadata": {},
     "output_type": "execute_result"
    }
   ],
   "source": [
    "#likelihood\n",
    "L = vocabulario.join(V1_c, how = \"left\").join(V2_c, how = \"left\").join(V3_c, how = \"left\")\n",
    "L = L.fillna(0) +1 \n",
    "L = L/L.sum(axis=0)\n",
    "L"
   ]
  },
  {
   "cell_type": "code",
   "execution_count": 51,
   "metadata": {},
   "outputs": [
    {
     "data": {
      "text/html": [
       "<div>\n",
       "<style scoped>\n",
       "    .dataframe tbody tr th:only-of-type {\n",
       "        vertical-align: middle;\n",
       "    }\n",
       "\n",
       "    .dataframe tbody tr th {\n",
       "        vertical-align: top;\n",
       "    }\n",
       "\n",
       "    .dataframe thead th {\n",
       "        text-align: right;\n",
       "    }\n",
       "</style>\n",
       "<table border=\"1\" class=\"dataframe\">\n",
       "  <thead>\n",
       "    <tr style=\"text-align: right;\">\n",
       "      <th></th>\n",
       "      <th>k1</th>\n",
       "      <th>k2</th>\n",
       "      <th>k3</th>\n",
       "    </tr>\n",
       "  </thead>\n",
       "  <tbody>\n",
       "    <tr>\n",
       "      <td>remento</td>\n",
       "      <td>0.000157</td>\n",
       "      <td>0.000357</td>\n",
       "      <td>0.000116</td>\n",
       "    </tr>\n",
       "    <tr>\n",
       "      <td>proyeccion</td>\n",
       "      <td>0.000627</td>\n",
       "      <td>0.000179</td>\n",
       "      <td>0.000116</td>\n",
       "    </tr>\n",
       "    <tr>\n",
       "      <td>mayo</td>\n",
       "      <td>0.000627</td>\n",
       "      <td>0.000536</td>\n",
       "      <td>0.000464</td>\n",
       "    </tr>\n",
       "    <tr>\n",
       "      <td>ajustadas</td>\n",
       "      <td>0.000157</td>\n",
       "      <td>0.000357</td>\n",
       "      <td>0.000058</td>\n",
       "    </tr>\n",
       "    <tr>\n",
       "      <td>todas</td>\n",
       "      <td>0.000314</td>\n",
       "      <td>0.000179</td>\n",
       "      <td>0.000116</td>\n",
       "    </tr>\n",
       "    <tr>\n",
       "      <td>gares</td>\n",
       "      <td>0.000157</td>\n",
       "      <td>0.000179</td>\n",
       "      <td>0.000116</td>\n",
       "    </tr>\n",
       "    <tr>\n",
       "      <td>rable</td>\n",
       "      <td>0.000157</td>\n",
       "      <td>0.000179</td>\n",
       "      <td>0.000116</td>\n",
       "    </tr>\n",
       "    <tr>\n",
       "      <td>observen</td>\n",
       "      <td>0.000157</td>\n",
       "      <td>0.000179</td>\n",
       "      <td>0.000174</td>\n",
       "    </tr>\n",
       "    <tr>\n",
       "      <td>avanzada</td>\n",
       "      <td>0.000157</td>\n",
       "      <td>0.000179</td>\n",
       "      <td>0.000174</td>\n",
       "    </tr>\n",
       "    <tr>\n",
       "      <td>particularment</td>\n",
       "      <td>0.000157</td>\n",
       "      <td>0.000357</td>\n",
       "      <td>0.000116</td>\n",
       "    </tr>\n",
       "  </tbody>\n",
       "</table>\n",
       "</div>"
      ],
      "text/plain": [
       "                      k1        k2        k3\n",
       "remento         0.000157  0.000357  0.000116\n",
       "proyeccion      0.000627  0.000179  0.000116\n",
       "mayo            0.000627  0.000536  0.000464\n",
       "ajustadas       0.000157  0.000357  0.000058\n",
       "todas           0.000314  0.000179  0.000116\n",
       "gares           0.000157  0.000179  0.000116\n",
       "rable           0.000157  0.000179  0.000116\n",
       "observen        0.000157  0.000179  0.000174\n",
       "avanzada        0.000157  0.000179  0.000174\n",
       "particularment  0.000157  0.000357  0.000116"
      ]
     },
     "execution_count": 51,
     "metadata": {},
     "output_type": "execute_result"
    }
   ],
   "source": [
    "log_L = np.log(L)\n",
    "df_k = L.sample(10,random_state=314)\n",
    "df_k"
   ]
  },
  {
   "cell_type": "code",
   "execution_count": 44,
   "metadata": {},
   "outputs": [
    {
     "data": {
      "text/plain": [
       "k1   -4.910619\n",
       "k2   -4.738880\n",
       "k3   -4.572450\n",
       "dtype: float64"
      ]
     },
     "execution_count": 44,
     "metadata": {},
     "output_type": "execute_result"
    }
   ],
   "source": [
    "log_L.loc[[\"monetaria\"]].sum(axis=0)"
   ]
  },
  {
   "cell_type": "code",
   "execution_count": 27,
   "metadata": {},
   "outputs": [],
   "source": [
    "lo_prior_k1 = np.log(N1/N)\n",
    "lo_prior_k2 = np.log(N2/N)\n",
    "lo_prior_k3 = np.log(N3/N)"
   ]
  },
  {
   "cell_type": "code",
   "execution_count": 28,
   "metadata": {},
   "outputs": [],
   "source": [
    "log_prior = np.array([lo_prior_k1,lo_prior_k2,lo_prior_k3])"
   ]
  },
  {
   "cell_type": "code",
   "execution_count": 61,
   "metadata": {},
   "outputs": [
    {
     "data": {
      "text/plain": [
       "<matplotlib.axes._subplots.AxesSubplot at 0x1beb3ea7d88>"
      ]
     },
     "execution_count": 61,
     "metadata": {},
     "output_type": "execute_result"
    },
    {
     "data": {
      "image/png": "[encoded data removed]",
      "text/plain": [
       "<Figure size 432x288 with 1 Axes>"
      ]
     },
     "metadata": {
      "needs_background": "light"
     },
     "output_type": "display_data"
    },
    {
     "data": {
      "image/png": "[encoded data removed]",
      "text/plain": [
       "<Figure size 432x288 with 1 Axes>"
      ]
     },
     "metadata": {
      "needs_background": "light"
     },
     "output_type": "display_data"
    },
    {
     "data": {
      "image/png": "[encoded data removed]",
      "text/plain": [
       "<Figure size 432x288 with 1 Axes>"
      ]
     },
     "metadata": {
      "needs_background": "light"
     },
     "output_type": "display_data"
    }
   ],
   "source": [
    "log_L.plot.scatter(x=\"k1\",y=\"k2\")\n",
    "log_L.plot.scatter(x=\"k1\",y=\"k3\")\n",
    "log_L.plot.scatter(x=\"k2\",y=\"k3\")"
   ]
  },
  {
   "cell_type": "code",
   "execution_count": 32,
   "metadata": {},
   "outputs": [
    {
     "data": {
      "text/html": [
       "<div>\n",
       "<style scoped>\n",
       "    .dataframe tbody tr th:only-of-type {\n",
       "        vertical-align: middle;\n",
       "    }\n",
       "\n",
       "    .dataframe tbody tr th {\n",
       "        vertical-align: top;\n",
       "    }\n",
       "\n",
       "    .dataframe thead th {\n",
       "        text-align: right;\n",
       "    }\n",
       "</style>\n",
       "<table border=\"1\" class=\"dataframe\">\n",
       "  <thead>\n",
       "    <tr style=\"text-align: right;\">\n",
       "      <th></th>\n",
       "      <th>category</th>\n",
       "      <th>words</th>\n",
       "    </tr>\n",
       "    <tr>\n",
       "      <th>date</th>\n",
       "      <th></th>\n",
       "      <th></th>\n",
       "    </tr>\n",
       "  </thead>\n",
       "  <tbody>\n",
       "    <tr>\n",
       "      <td>2009-06-19</td>\n",
       "      <td>disminuye</td>\n",
       "      <td>[junio, comunicado, prensa, anuncio, politica,...</td>\n",
       "    </tr>\n",
       "    <tr>\n",
       "      <td>2019-08-15</td>\n",
       "      <td>disminuye</td>\n",
       "      <td>[junta, mantendra, postura, monetaria, prudent...</td>\n",
       "    </tr>\n",
       "    <tr>\n",
       "      <td>2009-02-20</td>\n",
       "      <td>disminuye</td>\n",
       "      <td>[febrero, comunicado, prensa, anuncio, politic...</td>\n",
       "    </tr>\n",
       "    <tr>\n",
       "      <td>2009-05-15</td>\n",
       "      <td>disminuye</td>\n",
       "      <td>[mayo, comunicado, prensa, anuncio, politica, ...</td>\n",
       "    </tr>\n",
       "  </tbody>\n",
       "</table>\n",
       "</div>"
      ],
      "text/plain": [
       "             category                                              words\n",
       "date                                                                    \n",
       "2009-06-19  disminuye  [junio, comunicado, prensa, anuncio, politica,...\n",
       "2019-08-15  disminuye  [junta, mantendra, postura, monetaria, prudent...\n",
       "2009-02-20  disminuye  [febrero, comunicado, prensa, anuncio, politic...\n",
       "2009-05-15  disminuye  [mayo, comunicado, prensa, anuncio, politica, ..."
      ]
     },
     "execution_count": 32,
     "metadata": {},
     "output_type": "execute_result"
    }
   ],
   "source": [
    "D1_test"
   ]
  },
  {
   "cell_type": "code",
   "execution_count": 34,
   "metadata": {},
   "outputs": [
    {
     "name": "stderr",
     "output_type": "stream",
     "text": [
      "FutureWarning: \n",
      "Passing list-likes to .loc or [] with any missing label will raise\n",
      "KeyError in the future, you can use .reindex() as an alternative.\n",
      "\n",
      "See the documentation here:\n",
      "https://pandas.pydata.org/pandas-docs/stable/user_guide/indexing.html#deprecate-loc-reindex-listlike [ipykernel_launcher.py:1]\n"
     ]
    },
    {
     "data": {
      "text/plain": [
       "k1   -1004.130682\n",
       "k2   -1083.891645\n",
       "k3   -1057.315356\n",
       "dtype: float64"
      ]
     },
     "execution_count": 34,
     "metadata": {},
     "output_type": "execute_result"
    }
   ],
   "source": [
    "log_L.loc[f].sum(axis=0) "
   ]
  },
  {
   "cell_type": "code",
   "execution_count": 62,
   "metadata": {},
   "outputs": [
    {
     "name": "stderr",
     "output_type": "stream",
     "text": [
      "FutureWarning: \n",
      "Passing list-likes to .loc or [] with any missing label will raise\n",
      "KeyError in the future, you can use .reindex() as an alternative.\n",
      "\n",
      "See the documentation here:\n",
      "https://pandas.pydata.org/pandas-docs/stable/user_guide/indexing.html#deprecate-loc-reindex-listlike [ipykernel_launcher.py:1]\n"
     ]
    },
    {
     "data": {
      "text/plain": [
       "'k3'"
      ]
     },
     "execution_count": 62,
     "metadata": {},
     "output_type": "execute_result"
    }
   ],
   "source": [
    "res = log_L.loc[f].sum(axis=0) + log_prior\n",
    "res\n",
    "res.idxmax()"
   ]
  },
  {
   "cell_type": "code",
   "execution_count": 37,
   "metadata": {},
   "outputs": [
    {
     "name": "stdout",
     "output_type": "stream",
     "text": [
      "['k1', 'k1', 'k1', 'k1', 'k2', 'k2', 'k2', 'k2', 'k3', 'k3', 'k3', 'k3', 'k3', 'k3', 'k3', 'k3', 'k3', 'k3', 'k3', 'k3', 'k3', 'k3', 'k3']\n"
     ]
    }
   ],
   "source": [
    "D_test = pd.concat([D1_test, D2_test, D3_test], axis=0)\n",
    "y_test= [\"k1\"] * len(D1_test) + [\"k2\"] * len(D2_test) + [\"k3\"] * len(D3_test)\n",
    "print(y_test)"
   ]
  },
  {
   "cell_type": "code",
   "execution_count": 38,
   "metadata": {},
   "outputs": [
    {
     "name": "stderr",
     "output_type": "stream",
     "text": [
      "FutureWarning: \n",
      "Passing list-likes to .loc or [] with any missing label will raise\n",
      "KeyError in the future, you can use .reindex() as an alternative.\n",
      "\n",
      "See the documentation here:\n",
      "https://pandas.pydata.org/pandas-docs/stable/user_guide/indexing.html#deprecate-loc-reindex-listlike [ipykernel_launcher.py:4]\n"
     ]
    }
   ],
   "source": [
    "yhat_test = []\n",
    "for d_test in D_test.words:\n",
    "    f = set(d_test)\n",
    "    res = log_L.loc[f].sum(axis=0) + log_prior\n",
    "    yhat_test.append(res.idxmax())"
   ]
  },
  {
   "cell_type": "markdown",
   "metadata": {},
   "source": [
    "# Matriz de confusion\n",
    "sin usar las palabras en el texto que indican aumento, disminución o mantenimeinto de la tasa"
   ]
  },
  {
   "cell_type": "code",
   "execution_count": 39,
   "metadata": {},
   "outputs": [
    {
     "data": {
      "text/plain": [
       "array([[ 2,  1,  1],\n",
       "       [ 0,  3,  1],\n",
       "       [ 2,  0, 13]], dtype=int64)"
      ]
     },
     "execution_count": 39,
     "metadata": {},
     "output_type": "execute_result"
    }
   ],
   "source": [
    "from sklearn.metrics import confusion_matrix\n",
    "cm = confusion_matrix(y_test,yhat_test)\n",
    "cm"
   ]
  },
  {
   "cell_type": "code",
   "execution_count": 63,
   "metadata": {},
   "outputs": [
    {
     "data": {
      "text/plain": [
       "0.782608695652174"
      ]
     },
     "execution_count": 63,
     "metadata": {},
     "output_type": "execute_result"
    }
   ],
   "source": [
    "#Accuracy\n",
    "sum(cm.diagonal())/cm.sum()"
   ]
  },
  {
   "cell_type": "code",
   "execution_count": 66,
   "metadata": {},
   "outputs": [
    {
     "data": {
      "text/plain": [
       "<matplotlib.axes._subplots.AxesSubplot at 0x1beb3c7af48>"
      ]
     },
     "execution_count": 66,
     "metadata": {},
     "output_type": "execute_result"
    },
    {
     "data": {
      "image/png": "[encoded data removed]",
      "text/plain": [
       "<Figure size 432x288 with 1 Axes>"
      ]
     },
     "metadata": {
      "needs_background": "light"
     },
     "output_type": "display_data"
    }
   ],
   "source": [
    "V1_c[:5].plot()\n",
    "V2_c[:5].plot()\n",
    "V3_c[:5].plot()"
   ]
  },
  {
   "cell_type": "markdown",
   "metadata": {},
   "source": [
    "el accuracy se ve afectado por  aparecen en todas las clases"
   ]
  }
 ],
 "metadata": {
  "kernelspec": {
   "display_name": "Python 3",
   "language": "python",
   "name": "python3"
  },
  "language_info": {
   "codemirror_mode": {
    "name": "ipython",
    "version": 3
   },
   "file_extension": ".py",
   "mimetype": "text/x-python",
   "name": "python",
   "nbconvert_exporter": "python",
   "pygments_lexer": "ipython3",
   "version": "3.7.4"
  }
 },
 "nbformat": 4,
 "nbformat_minor": 2
}
