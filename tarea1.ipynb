{
 "cells": [
  {
   "cell_type": "markdown",
   "metadata": {},
   "source": [
    "<h2 style=\"color:crimson\">Ejercicios</h2>\n",
    "\n",
    "Considerando que la relación dentro de la base de datos `nabla_python` tiene la siguiente estructura:\n",
    "\n",
    "![relation](http://www.mysqltutorial.org/wp-content/uploads/2009/12/MySQL-Sample-Database-Schema.png)\n",
    "\n",
    "\n",
    "1. Realiza una consulta a la base de datos `nabla_python` por medio de `pymysql`: encuentra los tipos de `status` existentes dentro de la tabla `orders`.\n",
    "\n",
    "---\n",
    "\n",
    "2. Realiza una consulta a la base de datos `nabla_python` por medio de `pymysql`: encuentra los 10 clientes `customerName` que más han comprado en la tienda. La tabla resultante deberá estar ordenada de mayor a menor con `customerName` y `expenses` como la columna en dónde se encuentre el monto gastado en la tienda. (**hint**: considera las tablas `customers` y `payments`)\n",
    "----\n",
    "\n",
    "3. Escribe una consulta que, para cada producto comprado muestre la clave del cliente `customerNumber` y el código del producto `productCode`. Obten los primeros 10 valores\n",
    "\n",
    "---\n",
    "\n",
    "4. En base al ejercicio anterior, reemplaza `productCode` por `productName`. **HINT**: El comando `WITH` nos ayuda a crear una tabla temporal:\n",
    "\n",
    "```SQL\n",
    "WITH t1 as (\n",
    "    SELECT ...\n",
    "    )\n",
    "SELECT t1.ci, t2.cj\n",
    "FROM t2\n",
    "JOIN t1 ON t1.cx = t2.cx\n",
    "```\n",
    "\n",
    "---\n",
    "\n",
    "5. En base al ejercicio anterior, reemplaza `customerNumber` por `customerName`\n",
    "\n",
    "----\n",
    "\n",
    "6. En base al ejercicio 3, encuentra el nombre del producto `productName` y cuantas unidades se han comprado de ese producto. Ordena los elementos de mayor a menor.\n",
    "\n",
    "---\n",
    "\n",
    "7. Por medio de SQLAlchemy, define la tabla `orders` definida dentro de `nabla_python`\n",
    "\n",
    "```\n",
    "+----------------+-------------+------+-----+---------+-------+\n",
    "| Field          | Type        | Null | Key | Default | Extra |\n",
    "+----------------+-------------+------+-----+---------+-------+\n",
    "| orderNumber    | int(11)     | NO   | PRI | NULL    |       |\n",
    "| orderDate      | date        | NO   |     | NULL    |       |\n",
    "| requiredDate   | date        | NO   |     | NULL    |       |\n",
    "| shippedDate    | date        | YES  |     | NULL    |       |\n",
    "| status         | varchar(15) | NO   |     | NULL    |       |\n",
    "| comments       | text        | YES  |     | NULL    |       |\n",
    "| customerNumber | int(11)     | NO   | MUL | NULL    |       |\n",
    "+----------------+-------------+------+-----+---------+-------+\n",
    "```\n",
    "\n",
    "----\n",
    "\n",
    "8. Por medio de SQLAlchemy, define la tabla `orderdetails` definida dentro de `nabla_python`\n",
    "\n",
    "```\n",
    "+-----------------+---------------+------+-----+---------+-------+\n",
    "| Field           | Type          | Null | Key | Default | Extra |\n",
    "+-----------------+---------------+------+-----+---------+-------+\n",
    "| orderNumber     | int(11)       | NO   | PRI | NULL    |       |\n",
    "| productCode     | varchar(15)   | NO   | PRI | NULL    |       |\n",
    "| quantityOrdered | int(11)       | NO   |     | NULL    |       |\n",
    "| priceEach       | decimal(10,2) | NO   |     | NULL    |       |\n",
    "| orderLineNumber | smallint(6)   | NO   |     | NULL    |       |\n",
    "+-----------------+---------------+------+-----+---------+-------+\n",
    "```\n",
    "\n",
    "---\n",
    "\n",
    "9. Realiza una consulta a la base de datos `nabla_python` por medio de `sqlalchemy`: encuentra los tipos de `status` existentes dentro de la tabla `orders`."
   ]
  },
  {
   "cell_type": "code",
   "execution_count": 1,
   "metadata": {},
   "outputs": [],
   "source": [
    "import pymysql\n",
    "passw = \"maquina271\"\n",
    "conn = pymysql.connect(host=\"db4free.net\",\n",
    "                       user=\"nabla123\",\n",
    "                       port=3306,\n",
    "                       password=passw,\n",
    "                       database=\"nabla_python\",\n",
    "                       charset=\"utf8\")"
   ]
  },
  {
   "cell_type": "markdown",
   "metadata": {},
   "source": [
    "1. Realiza una consulta a la base de datos nabla_python por medio de pymysql: encuentra los tipos de status existentes dentro de la tabla orders."
   ]
  },
  {
   "cell_type": "code",
   "execution_count": 5,
   "metadata": {},
   "outputs": [
    {
     "name": "stdout",
     "output_type": "stream",
     "text": [
      "('Shipped',)\n",
      "('Resolved',)\n",
      "('Cancelled',)\n",
      "('On Hold',)\n",
      "('Disputed',)\n"
     ]
    }
   ],
   "source": [
    "query = \"SELECT DISTINCT status FROM orders;\"\n",
    "with conn.cursor() as cursor:\n",
    "    cursor.execute(query)\n",
    "    orders = cursor.fetchmany(5)\n",
    "    \n",
    "for order in orders:\n",
    "    print(order)"
   ]
  },
  {
   "cell_type": "markdown",
   "metadata": {},
   "source": [
    "2. Realiza una consulta a la base de datos nabla_python por medio de pymysql: encuentra los 10 clientes customerName que más han comprado en la tienda. La tabla resultante deberá estar ordenada de mayor a menor con customerName y expenses como la columna en dónde se encuentre el monto gastado en la tienda. (hint: considera las tablas customers y payments)"
   ]
  },
  {
   "cell_type": "code",
   "execution_count": 86,
   "metadata": {},
   "outputs": [
    {
     "name": "stdout",
     "output_type": "stream",
     "text": [
      "1  Euro+ Shopping Channel        :  715,738.98\n",
      "2  Mini Gifts Distributors Ltd.  :  584,188.24\n",
      "3  Australian Collectors, Co.    :  180,585.07\n",
      "4  Muscle Machine Inc            :  177,913.95\n",
      "5  Dragon Souveniers, Ltd.       :  156,251.03\n",
      "6  Down Under Souveniers, Inc    :  154,622.08\n",
      "7  AV Stores, Co.                :  148,410.09\n",
      "8  Anna's Decorations, Ltd       :  137,034.22\n",
      "9  Corporate Gift Ideas Co.      :  132,340.78\n",
      "10 Saveley & Henriot, Co.        :  130,305.35\n"
     ]
    }
   ],
   "source": [
    "query = \"\"\"\n",
    "SELECT customerName, sum(amount) as expenses\n",
    "FROM customers\n",
    "JOIN payments\n",
    "ON payments.customerNumber = customers.customerNumber\n",
    "GROUP BY customerName\n",
    "ORDER BY expenses desc;\n",
    "\"\"\"\n",
    "\n",
    "with conn.cursor() as cursor:\n",
    "    cursor.execute(query)\n",
    "    elements = cursor.fetchmany(10)\n",
    "idx = 0     \n",
    "for element in elements:\n",
    "    idx += 1 \n",
    "    print(f'{idx:<2} {element[0]:<30}:  {element[1]:,.2f}')\n",
    "   \n",
    "   "
   ]
  },
  {
   "cell_type": "markdown",
   "metadata": {},
   "source": [
    "3. Escribe una consulta que, para cada producto comprado muestre la clave del cliente customerNumber y el código del producto productCode. Obten los primeros 10 valores"
   ]
  },
  {
   "cell_type": "code",
   "execution_count": 100,
   "metadata": {},
   "outputs": [
    {
     "name": "stdout",
     "output_type": "stream",
     "text": [
      "(363, 'S18_1749')\n",
      "(363, 'S18_2248')\n",
      "(363, 'S18_4409')\n",
      "(363, 'S24_3969')\n",
      "(128, 'S18_2325')\n",
      "(128, 'S18_2795')\n",
      "(128, 'S24_1937')\n",
      "(128, 'S24_2022')\n",
      "(181, 'S18_1342')\n",
      "(181, 'S18_1367')\n"
     ]
    }
   ],
   "source": [
    "#Asumiendo que comprado significa que la orden esta \"resolved\" o \"shipped\"\n",
    "# no sé si requería otro campo, supongo que no.\n",
    "\n",
    "query = \"\"\"SELECT  A.customerNumber, B.productCode\n",
    "\n",
    "        FROM orders as A\n",
    "        JOIN orderdetails as B\n",
    "        ON B.orderNumber = A.orderNumber\n",
    "        \n",
    "        WHERE A.status in ('Shipped','Resolved')\n",
    "        GROUP BY A.customerNumber, B.productCode\n",
    "        ;\"\"\"\n",
    "with conn.cursor() as cursor:\n",
    "    cursor.execute(query)\n",
    "    orders = cursor.fetchmany(10)\n",
    "    \n",
    "for order in orders:\n",
    "    print(order)"
   ]
  },
  {
   "cell_type": "markdown",
   "metadata": {},
   "source": [
    "4. En base al ejercicio anterior, reemplaza productCode por productName. HINT: El comando WITH nos ayuda a crear una tabla temporal:"
   ]
  },
  {
   "cell_type": "code",
   "execution_count": 102,
   "metadata": {},
   "outputs": [
    {
     "name": "stdout",
     "output_type": "stream",
     "text": [
      "(363, '1917 Grand Touring Sedan')\n",
      "(363, '1911 Ford Town Car')\n",
      "(363, '1932 Alfa Romeo 8C2300 Spider Sport')\n",
      "(363, '1936 Mercedes Benz 500k Roadster')\n",
      "(128, '1932 Model A Ford J-Coupe')\n",
      "(128, '1928 Mercedes-Benz SSK')\n",
      "(128, '1939 Chevrolet Deluxe Coupe')\n",
      "(128, '1938 Cadillac V-16 Presidential Limousine')\n",
      "(181, '1937 Lincoln Berline')\n",
      "(181, '1936 Mercedes-Benz 500K Special Roadster')\n"
     ]
    }
   ],
   "source": [
    "query = \"\"\"WITH D as (SELECT  B.orderNumber,B.productCode, C.productName\n",
    "                        FROM orderdetails as B\n",
    "                        JOIN products as C\n",
    "                        ON B.productCode = C.productCode)\n",
    "        \n",
    "        SELECT  A.customerNumber, D.productName\n",
    "\n",
    "        FROM orders as A\n",
    "        JOIN D\n",
    "        ON D.orderNumber = A.orderNumber\n",
    "        \n",
    "        WHERE A.status in ('Shipped','Resolved')\n",
    "        GROUP BY A.customerNumber, D.productName\n",
    "        ;\"\"\"\n",
    "with conn.cursor() as cursor:\n",
    "    cursor.execute(query)\n",
    "    orders = cursor.fetchmany(10)\n",
    "    \n",
    "for order in orders:\n",
    "    print(order)"
   ]
  },
  {
   "cell_type": "markdown",
   "metadata": {},
   "source": [
    "5. En base al ejercicio anterior, reemplaza customerNumber por customerName"
   ]
  },
  {
   "cell_type": "code",
   "execution_count": 106,
   "metadata": {},
   "outputs": [
    {
     "name": "stdout",
     "output_type": "stream",
     "text": [
      "('Online Diecast Creations Co.', '1917 Grand Touring Sedan')\n",
      "('Online Diecast Creations Co.', '1911 Ford Town Car')\n",
      "('Online Diecast Creations Co.', '1932 Alfa Romeo 8C2300 Spider Sport')\n",
      "('Online Diecast Creations Co.', '1936 Mercedes Benz 500k Roadster')\n",
      "('Blauer See Auto, Co.', '1932 Model A Ford J-Coupe')\n",
      "('Blauer See Auto, Co.', '1928 Mercedes-Benz SSK')\n",
      "('Blauer See Auto, Co.', '1939 Chevrolet Deluxe Coupe')\n",
      "('Blauer See Auto, Co.', '1938 Cadillac V-16 Presidential Limousine')\n",
      "('Vitachrome Inc.', '1937 Lincoln Berline')\n",
      "('Vitachrome Inc.', '1936 Mercedes-Benz 500K Special Roadster')\n"
     ]
    }
   ],
   "source": [
    "query = \"\"\"WITH D as (SELECT  B.orderNumber,B.productCode, C.productName\n",
    "                        FROM orderdetails as B\n",
    "                        JOIN products as C\n",
    "                        ON B.productCode = C.productCode)\n",
    "            \n",
    "        SELECT  E.customerName, D.productName\n",
    "\n",
    "        FROM orders as A\n",
    "        JOIN D\n",
    "        ON D.orderNumber = A.orderNumber\n",
    "        JOIN customers as E\n",
    "        ON E.customerNumber = A.customerNumber\n",
    "        WHERE A.status in ('Shipped','Resolved')\n",
    "        GROUP BY A.customerNumber, D.productName\n",
    "        ;\"\"\"\n",
    "with conn.cursor() as cursor:\n",
    "    cursor.execute(query)\n",
    "    orders = cursor.fetchmany(10)\n",
    "    \n",
    "for order in orders:\n",
    "    print(order)"
   ]
  },
  {
   "cell_type": "code",
   "execution_count": null,
   "metadata": {},
   "outputs": [],
   "source": []
  },
  {
   "cell_type": "code",
   "execution_count": null,
   "metadata": {},
   "outputs": [],
   "source": []
  }
 ],
 "metadata": {
  "kernelspec": {
   "display_name": "Python 3",
   "language": "python",
   "name": "python3"
  },
  "language_info": {
   "codemirror_mode": {
    "name": "ipython",
    "version": 3
   },
   "file_extension": ".py",
   "mimetype": "text/x-python",
   "name": "python",
   "nbconvert_exporter": "python",
   "pygments_lexer": "ipython3",
   "version": "3.7.4"
  }
 },
 "nbformat": 4,
 "nbformat_minor": 2
}
