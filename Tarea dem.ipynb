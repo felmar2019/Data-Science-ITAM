{
 "cells": [
  {
   "cell_type": "markdown",
   "metadata": {},
   "source": [
    "\n",
    "\n",
    "<h1 style=\"color:tomato\">Sea $\\sigma(x)= \\frac{1}{1+exp(-x)}$, demuestre que $\\frac{d}{dx}\\sigma(x)= \\sigma(x)(1-\\sigma(x))$</h1>\n",
    "\n",
    "<p style=\"font-size:30px;\">\n",
    "$\\frac{d}{dx}\\sigma(x)=\\frac{d}{dx} \\frac{1}{1+exp(-x)}= \\frac{d}{dx}(1+exp(-x))^{-1}$\n",
    "</p>\n",
    "\n",
    "<p style=\"font-size:30px;\">\n",
    "$\\frac{d}{dx}(1+exp(x))^{-1}= -[1+exp(-x)]^{-2}\\cdot[-exp(-x)]$\n",
    "</p>\n",
    "\n",
    "<p style=\"font-size:30px;\">\n",
    "$-[1+exp(-x)]^{-2}\\cdot[-exp(-x)]=\\frac{exp(-x)}{1+exp(-x)}$\n",
    "</p>\n",
    "\n",
    "<p style=\"font-size:30px;\">\n",
    "$\\frac{exp(-x)}{1+exp(-x)}=\\frac{1}{1+exp(-x)}\\left[\\frac{exp(-x)}{1+exp(-x)} \\right]$\n",
    "</p>\n",
    "\n",
    "<p style=\"font-size:30px;\">                \n",
    "$\\frac{1}{1+exp(-x)}\\left[\\frac{exp(-x)}{1+exp(-x)} \\right]= \\frac{1}{1+exp(-x)}\\left[\\frac{1+exp(-x)}{1+exp(-x)}-\\frac{1}{1+exp(-x)} \\right]$\n",
    "</p>\n",
    "\n",
    "<p style=\"font-size:30px;\">                \n",
    "$\\frac{1}{1+exp(-x)}\\left[\\frac{1+exp(-x)}{1+exp(-x)}-\\frac{1}{1+exp(-x)} \\right]=\\frac{1}{1+exp(-x)}\\left[1-\\frac{1}{1+exp(-x)} \\right]$\n",
    "</p>\n",
    "\n",
    "<p style=\"font-size:30px;\">                \n",
    "$\\frac{1}{1+exp(-x)}\\left[1-\\frac{1}{1+exp(-x)} \\right]= \\sigma(x) [1-\\sigma(x)]$\n",
    "</p>"
   ]
  },
  {
   "cell_type": "code",
   "execution_count": null,
   "metadata": {},
   "outputs": [],
   "source": []
  }
 ],
 "metadata": {
  "kernelspec": {
   "display_name": "Python 3",
   "language": "python",
   "name": "python3"
  },
  "language_info": {
   "codemirror_mode": {
    "name": "ipython",
    "version": 3
   },
   "file_extension": ".py",
   "mimetype": "text/x-python",
   "name": "python",
   "nbconvert_exporter": "python",
   "pygments_lexer": "ipython3",
   "version": "3.7.4"
  }
 },
 "nbformat": 4,
 "nbformat_minor": 2
}
