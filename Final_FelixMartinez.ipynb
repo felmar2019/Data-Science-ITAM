{
 "cells": [
  {
   "cell_type": "markdown",
   "metadata": {},
   "source": [
    "# PROYECTO FINAL PORTAFOLIOS"
   ]
  },
  {
   "cell_type": "markdown",
   "metadata": {},
   "source": [
    "Paquetes"
   ]
  },
  {
   "cell_type": "code",
   "execution_count": 1,
   "metadata": {},
   "outputs": [],
   "source": [
    "import numpy as np\n",
    "import pandas as pd\n",
    "import matplotlib.pyplot as plt\n",
    "import random\n",
    "from sklearn.linear_model import LinearRegression\n",
    "lm = LinearRegression()\n",
    "from scipy.stats import norm\n",
    "import scipy.optimize as sco"
   ]
  },
  {
   "cell_type": "markdown",
   "metadata": {},
   "source": [
    "### Supuestos"
   ]
  },
  {
   "cell_type": "code",
   "execution_count": 2,
   "metadata": {},
   "outputs": [],
   "source": [
    "Port = 7 # numero de acciones del portafolio\n",
    "rf = 0.05 # tasa libre de riesgo\n",
    "pr = 0.1 # premio por riesgo\n",
    "mi = 10_000_000 # Monto invertido"
   ]
  },
  {
   "cell_type": "markdown",
   "metadata": {},
   "source": [
    "Importar datos"
   ]
  },
  {
   "cell_type": "code",
   "execution_count": 3,
   "metadata": {},
   "outputs": [],
   "source": [
    "market = pd.read_excel('ipc7.xlsx', index_col=0,sheet_name=\"Precios\") #, index_col=0\n",
    "market.columns = [x.replace(\" MF Equity\",'').replace(\" INDEX\",'') for x in market]\n",
    "c = len(market.columns)\n",
    "acciones = random.sample(range(c-1), k=Port)\n",
    "acciones.append(c-1)\n",
    "market = market.iloc[:,acciones]"
   ]
  },
  {
   "cell_type": "markdown",
   "metadata": {},
   "source": [
    "## Rendimiento esperado diario y anual bajo los siguientes modelos: "
   ]
  },
  {
   "cell_type": "code",
   "execution_count": 4,
   "metadata": {},
   "outputs": [],
   "source": [
    "rend = (market / market.shift() - 1).dropna()\n",
    "rend_M = rend\n",
    "rend = rend.drop(['MEXBOL'],axis=1)\n",
    "titulos = rend.columns"
   ]
  },
  {
   "cell_type": "markdown",
   "metadata": {},
   "source": [
    "### Modelo de rendimiento promedio constante "
   ]
  },
  {
   "cell_type": "code",
   "execution_count": 5,
   "metadata": {},
   "outputs": [],
   "source": [
    "def mean_anu(series): return series.mean() * 252\n",
    "def var_anu(series): return series.var() * 252\n",
    "def std_anu(series): return np.sqrt(series.var() * 252)\n",
    "def rend_portf(matriz):return rend.agg(['mean',mean_anu, 'var',var_anu,'std',std_anu])   "
   ]
  },
  {
   "cell_type": "code",
   "execution_count": 6,
   "metadata": {},
   "outputs": [
    {
     "name": "stdout",
     "output_type": "stream",
     "text": [
      "Estadisticos\n"
     ]
    },
    {
     "data": {
      "text/html": [
       "<style  type=\"text/css\" >\n",
       "</style><table id=\"T_94c05b64_b382_11ea_a142_107b44df9533\" ><thead>    <tr>        <th class=\"blank level0\" ></th>        <th class=\"col_heading level0 col0\" >ASURB</th>        <th class=\"col_heading level0 col1\" >ELEKTRA*</th>        <th class=\"col_heading level0 col2\" >GAPB</th>        <th class=\"col_heading level0 col3\" >GMEXICOB</th>        <th class=\"col_heading level0 col4\" >KIMBERA</th>        <th class=\"col_heading level0 col5\" >PE&OLES*</th>        <th class=\"col_heading level0 col6\" >ALPEKA</th>    </tr></thead><tbody>\n",
       "                <tr>\n",
       "                        <th id=\"T_94c05b64_b382_11ea_a142_107b44df9533level0_row0\" class=\"row_heading level0 row0\" >mean</th>\n",
       "                        <td id=\"T_94c05b64_b382_11ea_a142_107b44df9533row0_col0\" class=\"data row0 col0\" >0.05%</td>\n",
       "                        <td id=\"T_94c05b64_b382_11ea_a142_107b44df9533row0_col1\" class=\"data row0 col1\" >0.15%</td>\n",
       "                        <td id=\"T_94c05b64_b382_11ea_a142_107b44df9533row0_col2\" class=\"data row0 col2\" >0.05%</td>\n",
       "                        <td id=\"T_94c05b64_b382_11ea_a142_107b44df9533row0_col3\" class=\"data row0 col3\" >0.05%</td>\n",
       "                        <td id=\"T_94c05b64_b382_11ea_a142_107b44df9533row0_col4\" class=\"data row0 col4\" >0.01%</td>\n",
       "                        <td id=\"T_94c05b64_b382_11ea_a142_107b44df9533row0_col5\" class=\"data row0 col5\" >0.04%</td>\n",
       "                        <td id=\"T_94c05b64_b382_11ea_a142_107b44df9533row0_col6\" class=\"data row0 col6\" >0.00%</td>\n",
       "            </tr>\n",
       "            <tr>\n",
       "                        <th id=\"T_94c05b64_b382_11ea_a142_107b44df9533level0_row1\" class=\"row_heading level0 row1\" >mean_anu</th>\n",
       "                        <td id=\"T_94c05b64_b382_11ea_a142_107b44df9533row1_col0\" class=\"data row1 col0\" >12.35%</td>\n",
       "                        <td id=\"T_94c05b64_b382_11ea_a142_107b44df9533row1_col1\" class=\"data row1 col1\" >36.68%</td>\n",
       "                        <td id=\"T_94c05b64_b382_11ea_a142_107b44df9533row1_col2\" class=\"data row1 col2\" >12.78%</td>\n",
       "                        <td id=\"T_94c05b64_b382_11ea_a142_107b44df9533row1_col3\" class=\"data row1 col3\" >13.38%</td>\n",
       "                        <td id=\"T_94c05b64_b382_11ea_a142_107b44df9533row1_col4\" class=\"data row1 col4\" >1.67%</td>\n",
       "                        <td id=\"T_94c05b64_b382_11ea_a142_107b44df9533row1_col5\" class=\"data row1 col5\" >11.11%</td>\n",
       "                        <td id=\"T_94c05b64_b382_11ea_a142_107b44df9533row1_col6\" class=\"data row1 col6\" >0.13%</td>\n",
       "            </tr>\n",
       "            <tr>\n",
       "                        <th id=\"T_94c05b64_b382_11ea_a142_107b44df9533level0_row2\" class=\"row_heading level0 row2\" >var</th>\n",
       "                        <td id=\"T_94c05b64_b382_11ea_a142_107b44df9533row2_col0\" class=\"data row2 col0\" >0.02%</td>\n",
       "                        <td id=\"T_94c05b64_b382_11ea_a142_107b44df9533row2_col1\" class=\"data row2 col1\" >0.04%</td>\n",
       "                        <td id=\"T_94c05b64_b382_11ea_a142_107b44df9533row2_col2\" class=\"data row2 col2\" >0.02%</td>\n",
       "                        <td id=\"T_94c05b64_b382_11ea_a142_107b44df9533row2_col3\" class=\"data row2 col3\" >0.03%</td>\n",
       "                        <td id=\"T_94c05b64_b382_11ea_a142_107b44df9533row2_col4\" class=\"data row2 col4\" >0.02%</td>\n",
       "                        <td id=\"T_94c05b64_b382_11ea_a142_107b44df9533row2_col5\" class=\"data row2 col5\" >0.05%</td>\n",
       "                        <td id=\"T_94c05b64_b382_11ea_a142_107b44df9533row2_col6\" class=\"data row2 col6\" >0.03%</td>\n",
       "            </tr>\n",
       "            <tr>\n",
       "                        <th id=\"T_94c05b64_b382_11ea_a142_107b44df9533level0_row3\" class=\"row_heading level0 row3\" >var_anu</th>\n",
       "                        <td id=\"T_94c05b64_b382_11ea_a142_107b44df9533row3_col0\" class=\"data row3 col0\" >5.64%</td>\n",
       "                        <td id=\"T_94c05b64_b382_11ea_a142_107b44df9533row3_col1\" class=\"data row3 col1\" >10.79%</td>\n",
       "                        <td id=\"T_94c05b64_b382_11ea_a142_107b44df9533row3_col2\" class=\"data row3 col2\" >5.87%</td>\n",
       "                        <td id=\"T_94c05b64_b382_11ea_a142_107b44df9533row3_col3\" class=\"data row3 col3\" >8.19%</td>\n",
       "                        <td id=\"T_94c05b64_b382_11ea_a142_107b44df9533row3_col4\" class=\"data row3 col4\" >6.18%</td>\n",
       "                        <td id=\"T_94c05b64_b382_11ea_a142_107b44df9533row3_col5\" class=\"data row3 col5\" >13.81%</td>\n",
       "                        <td id=\"T_94c05b64_b382_11ea_a142_107b44df9533row3_col6\" class=\"data row3 col6\" >6.79%</td>\n",
       "            </tr>\n",
       "            <tr>\n",
       "                        <th id=\"T_94c05b64_b382_11ea_a142_107b44df9533level0_row4\" class=\"row_heading level0 row4\" >std</th>\n",
       "                        <td id=\"T_94c05b64_b382_11ea_a142_107b44df9533row4_col0\" class=\"data row4 col0\" >1.50%</td>\n",
       "                        <td id=\"T_94c05b64_b382_11ea_a142_107b44df9533row4_col1\" class=\"data row4 col1\" >2.07%</td>\n",
       "                        <td id=\"T_94c05b64_b382_11ea_a142_107b44df9533row4_col2\" class=\"data row4 col2\" >1.53%</td>\n",
       "                        <td id=\"T_94c05b64_b382_11ea_a142_107b44df9533row4_col3\" class=\"data row4 col3\" >1.80%</td>\n",
       "                        <td id=\"T_94c05b64_b382_11ea_a142_107b44df9533row4_col4\" class=\"data row4 col4\" >1.57%</td>\n",
       "                        <td id=\"T_94c05b64_b382_11ea_a142_107b44df9533row4_col5\" class=\"data row4 col5\" >2.34%</td>\n",
       "                        <td id=\"T_94c05b64_b382_11ea_a142_107b44df9533row4_col6\" class=\"data row4 col6\" >1.64%</td>\n",
       "            </tr>\n",
       "            <tr>\n",
       "                        <th id=\"T_94c05b64_b382_11ea_a142_107b44df9533level0_row5\" class=\"row_heading level0 row5\" >std_anu</th>\n",
       "                        <td id=\"T_94c05b64_b382_11ea_a142_107b44df9533row5_col0\" class=\"data row5 col0\" >23.75%</td>\n",
       "                        <td id=\"T_94c05b64_b382_11ea_a142_107b44df9533row5_col1\" class=\"data row5 col1\" >32.85%</td>\n",
       "                        <td id=\"T_94c05b64_b382_11ea_a142_107b44df9533row5_col2\" class=\"data row5 col2\" >24.23%</td>\n",
       "                        <td id=\"T_94c05b64_b382_11ea_a142_107b44df9533row5_col3\" class=\"data row5 col3\" >28.62%</td>\n",
       "                        <td id=\"T_94c05b64_b382_11ea_a142_107b44df9533row5_col4\" class=\"data row5 col4\" >24.85%</td>\n",
       "                        <td id=\"T_94c05b64_b382_11ea_a142_107b44df9533row5_col5\" class=\"data row5 col5\" >37.16%</td>\n",
       "                        <td id=\"T_94c05b64_b382_11ea_a142_107b44df9533row5_col6\" class=\"data row5 col6\" >26.06%</td>\n",
       "            </tr>\n",
       "    </tbody></table>"
      ],
      "text/plain": [
       "<pandas.io.formats.style.Styler at 0x1edb019de48>"
      ]
     },
     "execution_count": 6,
     "metadata": {},
     "output_type": "execute_result"
    }
   ],
   "source": [
    "res = rend_portf(rend)\n",
    "print('Estadisticos')\n",
    "res.style.format(\"{:.2%}\")"
   ]
  },
  {
   "cell_type": "markdown",
   "metadata": {},
   "source": [
    "### Modelo CAPM "
   ]
  },
  {
   "cell_type": "code",
   "execution_count": 7,
   "metadata": {},
   "outputs": [
    {
     "name": "stdout",
     "output_type": "stream",
     "text": [
      "Estadisticos\n"
     ]
    },
    {
     "data": {
      "text/html": [
       "<style  type=\"text/css\" >\n",
       "</style><table id=\"T_94c44f98_b382_11ea_bd7a_107b44df9533\" ><thead>    <tr>        <th class=\"blank level0\" ></th>        <th class=\"col_heading level0 col0\" >ASURB</th>        <th class=\"col_heading level0 col1\" >ELEKTRA*</th>        <th class=\"col_heading level0 col2\" >GAPB</th>        <th class=\"col_heading level0 col3\" >GMEXICOB</th>        <th class=\"col_heading level0 col4\" >KIMBERA</th>        <th class=\"col_heading level0 col5\" >PE&OLES*</th>        <th class=\"col_heading level0 col6\" >ALPEKA</th>    </tr></thead><tbody>\n",
       "                <tr>\n",
       "                        <th id=\"T_94c44f98_b382_11ea_bd7a_107b44df9533level0_row0\" class=\"row_heading level0 row0\" >mean</th>\n",
       "                        <td id=\"T_94c44f98_b382_11ea_bd7a_107b44df9533row0_col0\" class=\"data row0 col0\" >0.0005</td>\n",
       "                        <td id=\"T_94c44f98_b382_11ea_bd7a_107b44df9533row0_col1\" class=\"data row0 col1\" >0.0015</td>\n",
       "                        <td id=\"T_94c44f98_b382_11ea_bd7a_107b44df9533row0_col2\" class=\"data row0 col2\" >0.0005</td>\n",
       "                        <td id=\"T_94c44f98_b382_11ea_bd7a_107b44df9533row0_col3\" class=\"data row0 col3\" >0.0005</td>\n",
       "                        <td id=\"T_94c44f98_b382_11ea_bd7a_107b44df9533row0_col4\" class=\"data row0 col4\" >0.0001</td>\n",
       "                        <td id=\"T_94c44f98_b382_11ea_bd7a_107b44df9533row0_col5\" class=\"data row0 col5\" >0.0004</td>\n",
       "                        <td id=\"T_94c44f98_b382_11ea_bd7a_107b44df9533row0_col6\" class=\"data row0 col6\" >0.0000</td>\n",
       "            </tr>\n",
       "            <tr>\n",
       "                        <th id=\"T_94c44f98_b382_11ea_bd7a_107b44df9533level0_row1\" class=\"row_heading level0 row1\" >mean_anu</th>\n",
       "                        <td id=\"T_94c44f98_b382_11ea_bd7a_107b44df9533row1_col0\" class=\"data row1 col0\" >0.1235</td>\n",
       "                        <td id=\"T_94c44f98_b382_11ea_bd7a_107b44df9533row1_col1\" class=\"data row1 col1\" >0.3668</td>\n",
       "                        <td id=\"T_94c44f98_b382_11ea_bd7a_107b44df9533row1_col2\" class=\"data row1 col2\" >0.1278</td>\n",
       "                        <td id=\"T_94c44f98_b382_11ea_bd7a_107b44df9533row1_col3\" class=\"data row1 col3\" >0.1338</td>\n",
       "                        <td id=\"T_94c44f98_b382_11ea_bd7a_107b44df9533row1_col4\" class=\"data row1 col4\" >0.0167</td>\n",
       "                        <td id=\"T_94c44f98_b382_11ea_bd7a_107b44df9533row1_col5\" class=\"data row1 col5\" >0.1111</td>\n",
       "                        <td id=\"T_94c44f98_b382_11ea_bd7a_107b44df9533row1_col6\" class=\"data row1 col6\" >0.0013</td>\n",
       "            </tr>\n",
       "            <tr>\n",
       "                        <th id=\"T_94c44f98_b382_11ea_bd7a_107b44df9533level0_row2\" class=\"row_heading level0 row2\" >var</th>\n",
       "                        <td id=\"T_94c44f98_b382_11ea_bd7a_107b44df9533row2_col0\" class=\"data row2 col0\" >0.0002</td>\n",
       "                        <td id=\"T_94c44f98_b382_11ea_bd7a_107b44df9533row2_col1\" class=\"data row2 col1\" >0.0004</td>\n",
       "                        <td id=\"T_94c44f98_b382_11ea_bd7a_107b44df9533row2_col2\" class=\"data row2 col2\" >0.0002</td>\n",
       "                        <td id=\"T_94c44f98_b382_11ea_bd7a_107b44df9533row2_col3\" class=\"data row2 col3\" >0.0003</td>\n",
       "                        <td id=\"T_94c44f98_b382_11ea_bd7a_107b44df9533row2_col4\" class=\"data row2 col4\" >0.0002</td>\n",
       "                        <td id=\"T_94c44f98_b382_11ea_bd7a_107b44df9533row2_col5\" class=\"data row2 col5\" >0.0005</td>\n",
       "                        <td id=\"T_94c44f98_b382_11ea_bd7a_107b44df9533row2_col6\" class=\"data row2 col6\" >0.0003</td>\n",
       "            </tr>\n",
       "            <tr>\n",
       "                        <th id=\"T_94c44f98_b382_11ea_bd7a_107b44df9533level0_row3\" class=\"row_heading level0 row3\" >var_anu</th>\n",
       "                        <td id=\"T_94c44f98_b382_11ea_bd7a_107b44df9533row3_col0\" class=\"data row3 col0\" >0.0564</td>\n",
       "                        <td id=\"T_94c44f98_b382_11ea_bd7a_107b44df9533row3_col1\" class=\"data row3 col1\" >0.1079</td>\n",
       "                        <td id=\"T_94c44f98_b382_11ea_bd7a_107b44df9533row3_col2\" class=\"data row3 col2\" >0.0587</td>\n",
       "                        <td id=\"T_94c44f98_b382_11ea_bd7a_107b44df9533row3_col3\" class=\"data row3 col3\" >0.0819</td>\n",
       "                        <td id=\"T_94c44f98_b382_11ea_bd7a_107b44df9533row3_col4\" class=\"data row3 col4\" >0.0618</td>\n",
       "                        <td id=\"T_94c44f98_b382_11ea_bd7a_107b44df9533row3_col5\" class=\"data row3 col5\" >0.1381</td>\n",
       "                        <td id=\"T_94c44f98_b382_11ea_bd7a_107b44df9533row3_col6\" class=\"data row3 col6\" >0.0679</td>\n",
       "            </tr>\n",
       "            <tr>\n",
       "                        <th id=\"T_94c44f98_b382_11ea_bd7a_107b44df9533level0_row4\" class=\"row_heading level0 row4\" >std</th>\n",
       "                        <td id=\"T_94c44f98_b382_11ea_bd7a_107b44df9533row4_col0\" class=\"data row4 col0\" >0.0150</td>\n",
       "                        <td id=\"T_94c44f98_b382_11ea_bd7a_107b44df9533row4_col1\" class=\"data row4 col1\" >0.0207</td>\n",
       "                        <td id=\"T_94c44f98_b382_11ea_bd7a_107b44df9533row4_col2\" class=\"data row4 col2\" >0.0153</td>\n",
       "                        <td id=\"T_94c44f98_b382_11ea_bd7a_107b44df9533row4_col3\" class=\"data row4 col3\" >0.0180</td>\n",
       "                        <td id=\"T_94c44f98_b382_11ea_bd7a_107b44df9533row4_col4\" class=\"data row4 col4\" >0.0157</td>\n",
       "                        <td id=\"T_94c44f98_b382_11ea_bd7a_107b44df9533row4_col5\" class=\"data row4 col5\" >0.0234</td>\n",
       "                        <td id=\"T_94c44f98_b382_11ea_bd7a_107b44df9533row4_col6\" class=\"data row4 col6\" >0.0164</td>\n",
       "            </tr>\n",
       "            <tr>\n",
       "                        <th id=\"T_94c44f98_b382_11ea_bd7a_107b44df9533level0_row5\" class=\"row_heading level0 row5\" >std_anu</th>\n",
       "                        <td id=\"T_94c44f98_b382_11ea_bd7a_107b44df9533row5_col0\" class=\"data row5 col0\" >0.2375</td>\n",
       "                        <td id=\"T_94c44f98_b382_11ea_bd7a_107b44df9533row5_col1\" class=\"data row5 col1\" >0.3285</td>\n",
       "                        <td id=\"T_94c44f98_b382_11ea_bd7a_107b44df9533row5_col2\" class=\"data row5 col2\" >0.2423</td>\n",
       "                        <td id=\"T_94c44f98_b382_11ea_bd7a_107b44df9533row5_col3\" class=\"data row5 col3\" >0.2862</td>\n",
       "                        <td id=\"T_94c44f98_b382_11ea_bd7a_107b44df9533row5_col4\" class=\"data row5 col4\" >0.2485</td>\n",
       "                        <td id=\"T_94c44f98_b382_11ea_bd7a_107b44df9533row5_col5\" class=\"data row5 col5\" >0.3716</td>\n",
       "                        <td id=\"T_94c44f98_b382_11ea_bd7a_107b44df9533row5_col6\" class=\"data row5 col6\" >0.2606</td>\n",
       "            </tr>\n",
       "    </tbody></table>"
      ],
      "text/plain": [
       "<pandas.io.formats.style.Styler at 0x1edb00f7ac8>"
      ]
     },
     "execution_count": 7,
     "metadata": {},
     "output_type": "execute_result"
    }
   ],
   "source": [
    "res = rend_portf(rend)\n",
    "print('Estadisticos')\n",
    "res.style.format(\"{:.4f}\")"
   ]
  },
  {
   "cell_type": "code",
   "execution_count": 8,
   "metadata": {},
   "outputs": [],
   "source": [
    "betas = []\n",
    "for x in rend.columns:\n",
    "    X = rend_M[['MEXBOL']]\n",
    "    Y = rend_M[[x]]\n",
    "    lm = LinearRegression()\n",
    "    lm.fit(X, Y)\n",
    "    betas.append(lm.coef_[0][0])"
   ]
  },
  {
   "cell_type": "code",
   "execution_count": 9,
   "metadata": {},
   "outputs": [
    {
     "data": {
      "text/html": [
       "<style  type=\"text/css\" >\n",
       "</style><table id=\"T_94ccec1a_b382_11ea_a45c_107b44df9533\" ><thead>    <tr>        <th class=\"blank level0\" ></th>        <th class=\"col_heading level0 col0\" >Título</th>        <th class=\"col_heading level0 col1\" >Betas</th>        <th class=\"col_heading level0 col2\" >Clasificación</th>        <th class=\"col_heading level0 col3\" >Rend_esperado</th>    </tr></thead><tbody>\n",
       "                <tr>\n",
       "                        <th id=\"T_94ccec1a_b382_11ea_a45c_107b44df9533level0_row0\" class=\"row_heading level0 row0\" >0</th>\n",
       "                        <td id=\"T_94ccec1a_b382_11ea_a45c_107b44df9533row0_col0\" class=\"data row0 col0\" >ASURB</td>\n",
       "                        <td id=\"T_94ccec1a_b382_11ea_a45c_107b44df9533row0_col1\" class=\"data row0 col1\" >0.916168</td>\n",
       "                        <td id=\"T_94ccec1a_b382_11ea_a45c_107b44df9533row0_col2\" class=\"data row0 col2\" >Defensiva</td>\n",
       "                        <td id=\"T_94ccec1a_b382_11ea_a45c_107b44df9533row0_col3\" class=\"data row0 col3\" >14.16%</td>\n",
       "            </tr>\n",
       "            <tr>\n",
       "                        <th id=\"T_94ccec1a_b382_11ea_a45c_107b44df9533level0_row1\" class=\"row_heading level0 row1\" >1</th>\n",
       "                        <td id=\"T_94ccec1a_b382_11ea_a45c_107b44df9533row1_col0\" class=\"data row1 col0\" >ELEKTRA*</td>\n",
       "                        <td id=\"T_94ccec1a_b382_11ea_a45c_107b44df9533row1_col1\" class=\"data row1 col1\" >0.376368</td>\n",
       "                        <td id=\"T_94ccec1a_b382_11ea_a45c_107b44df9533row1_col2\" class=\"data row1 col2\" >Defensiva</td>\n",
       "                        <td id=\"T_94ccec1a_b382_11ea_a45c_107b44df9533row1_col3\" class=\"data row1 col3\" >8.76%</td>\n",
       "            </tr>\n",
       "            <tr>\n",
       "                        <th id=\"T_94ccec1a_b382_11ea_a45c_107b44df9533level0_row2\" class=\"row_heading level0 row2\" >2</th>\n",
       "                        <td id=\"T_94ccec1a_b382_11ea_a45c_107b44df9533row2_col0\" class=\"data row2 col0\" >GAPB</td>\n",
       "                        <td id=\"T_94ccec1a_b382_11ea_a45c_107b44df9533row2_col1\" class=\"data row2 col1\" >0.930147</td>\n",
       "                        <td id=\"T_94ccec1a_b382_11ea_a45c_107b44df9533row2_col2\" class=\"data row2 col2\" >Defensiva</td>\n",
       "                        <td id=\"T_94ccec1a_b382_11ea_a45c_107b44df9533row2_col3\" class=\"data row2 col3\" >14.30%</td>\n",
       "            </tr>\n",
       "            <tr>\n",
       "                        <th id=\"T_94ccec1a_b382_11ea_a45c_107b44df9533level0_row3\" class=\"row_heading level0 row3\" >3</th>\n",
       "                        <td id=\"T_94ccec1a_b382_11ea_a45c_107b44df9533row3_col0\" class=\"data row3 col0\" >GMEXICOB</td>\n",
       "                        <td id=\"T_94ccec1a_b382_11ea_a45c_107b44df9533row3_col1\" class=\"data row3 col1\" >1.12197</td>\n",
       "                        <td id=\"T_94ccec1a_b382_11ea_a45c_107b44df9533row3_col2\" class=\"data row3 col2\" >Agresiva</td>\n",
       "                        <td id=\"T_94ccec1a_b382_11ea_a45c_107b44df9533row3_col3\" class=\"data row3 col3\" >16.22%</td>\n",
       "            </tr>\n",
       "            <tr>\n",
       "                        <th id=\"T_94ccec1a_b382_11ea_a45c_107b44df9533level0_row4\" class=\"row_heading level0 row4\" >4</th>\n",
       "                        <td id=\"T_94ccec1a_b382_11ea_a45c_107b44df9533row4_col0\" class=\"data row4 col0\" >KIMBERA</td>\n",
       "                        <td id=\"T_94ccec1a_b382_11ea_a45c_107b44df9533row4_col1\" class=\"data row4 col1\" >0.818112</td>\n",
       "                        <td id=\"T_94ccec1a_b382_11ea_a45c_107b44df9533row4_col2\" class=\"data row4 col2\" >Defensiva</td>\n",
       "                        <td id=\"T_94ccec1a_b382_11ea_a45c_107b44df9533row4_col3\" class=\"data row4 col3\" >13.18%</td>\n",
       "            </tr>\n",
       "            <tr>\n",
       "                        <th id=\"T_94ccec1a_b382_11ea_a45c_107b44df9533level0_row5\" class=\"row_heading level0 row5\" >5</th>\n",
       "                        <td id=\"T_94ccec1a_b382_11ea_a45c_107b44df9533row5_col0\" class=\"data row5 col0\" >PE&OLES*</td>\n",
       "                        <td id=\"T_94ccec1a_b382_11ea_a45c_107b44df9533row5_col1\" class=\"data row5 col1\" >1.02807</td>\n",
       "                        <td id=\"T_94ccec1a_b382_11ea_a45c_107b44df9533row5_col2\" class=\"data row5 col2\" >Agresiva</td>\n",
       "                        <td id=\"T_94ccec1a_b382_11ea_a45c_107b44df9533row5_col3\" class=\"data row5 col3\" >15.28%</td>\n",
       "            </tr>\n",
       "            <tr>\n",
       "                        <th id=\"T_94ccec1a_b382_11ea_a45c_107b44df9533level0_row6\" class=\"row_heading level0 row6\" >6</th>\n",
       "                        <td id=\"T_94ccec1a_b382_11ea_a45c_107b44df9533row6_col0\" class=\"data row6 col0\" >ALPEKA</td>\n",
       "                        <td id=\"T_94ccec1a_b382_11ea_a45c_107b44df9533row6_col1\" class=\"data row6 col1\" >0.609526</td>\n",
       "                        <td id=\"T_94ccec1a_b382_11ea_a45c_107b44df9533row6_col2\" class=\"data row6 col2\" >Defensiva</td>\n",
       "                        <td id=\"T_94ccec1a_b382_11ea_a45c_107b44df9533row6_col3\" class=\"data row6 col3\" >11.10%</td>\n",
       "            </tr>\n",
       "    </tbody></table>"
      ],
      "text/plain": [
       "<pandas.io.formats.style.Styler at 0x1edb06cd0c8>"
      ]
     },
     "execution_count": 9,
     "metadata": {},
     "output_type": "execute_result"
    }
   ],
   "source": [
    "clasif = ['Agresiva' if x > 1 else 'Defensiva' for x in betas]\n",
    "rende = [rf + pr * x for x in betas]\n",
    "capm = pd.DataFrame({\n",
    "    'Título': titulos,\n",
    "    'Betas': betas,\n",
    "    'Clasificación': clasif,\n",
    "    'Rend_esperado': rende\n",
    "})\n",
    "capm.style.format({'Rend_esperado':\"{:.2%}\"})"
   ]
  },
  {
   "cell_type": "markdown",
   "metadata": {},
   "source": [
    "## Matriz varianza-covarianza "
   ]
  },
  {
   "cell_type": "code",
   "execution_count": 10,
   "metadata": {},
   "outputs": [
    {
     "name": "stdout",
     "output_type": "stream",
     "text": [
      "Matriz varianza-covarianza\n"
     ]
    },
    {
     "data": {
      "text/html": [
       "<div>\n",
       "<style scoped>\n",
       "    .dataframe tbody tr th:only-of-type {\n",
       "        vertical-align: middle;\n",
       "    }\n",
       "\n",
       "    .dataframe tbody tr th {\n",
       "        vertical-align: top;\n",
       "    }\n",
       "\n",
       "    .dataframe thead th {\n",
       "        text-align: right;\n",
       "    }\n",
       "</style>\n",
       "<table border=\"1\" class=\"dataframe\">\n",
       "  <thead>\n",
       "    <tr style=\"text-align: right;\">\n",
       "      <th></th>\n",
       "      <th>ASURB</th>\n",
       "      <th>ELEKTRA*</th>\n",
       "      <th>GAPB</th>\n",
       "      <th>GMEXICOB</th>\n",
       "      <th>KIMBERA</th>\n",
       "      <th>PE&amp;OLES*</th>\n",
       "      <th>ALPEKA</th>\n",
       "    </tr>\n",
       "  </thead>\n",
       "  <tbody>\n",
       "    <tr>\n",
       "      <td>ASURB</td>\n",
       "      <td>0.000224</td>\n",
       "      <td>2.436981e-05</td>\n",
       "      <td>0.000132</td>\n",
       "      <td>6.284605e-05</td>\n",
       "      <td>0.000048</td>\n",
       "      <td>0.000061</td>\n",
       "      <td>0.000047</td>\n",
       "    </tr>\n",
       "    <tr>\n",
       "      <td>ELEKTRA*</td>\n",
       "      <td>0.000024</td>\n",
       "      <td>4.283130e-04</td>\n",
       "      <td>0.000017</td>\n",
       "      <td>-7.371033e-07</td>\n",
       "      <td>0.000026</td>\n",
       "      <td>0.000022</td>\n",
       "      <td>0.000016</td>\n",
       "    </tr>\n",
       "    <tr>\n",
       "      <td>GAPB</td>\n",
       "      <td>0.000132</td>\n",
       "      <td>1.683988e-05</td>\n",
       "      <td>0.000233</td>\n",
       "      <td>6.983020e-05</td>\n",
       "      <td>0.000053</td>\n",
       "      <td>0.000059</td>\n",
       "      <td>0.000038</td>\n",
       "    </tr>\n",
       "    <tr>\n",
       "      <td>GMEXICOB</td>\n",
       "      <td>0.000063</td>\n",
       "      <td>-7.371033e-07</td>\n",
       "      <td>0.000070</td>\n",
       "      <td>3.251424e-04</td>\n",
       "      <td>0.000055</td>\n",
       "      <td>0.000127</td>\n",
       "      <td>0.000052</td>\n",
       "    </tr>\n",
       "    <tr>\n",
       "      <td>KIMBERA</td>\n",
       "      <td>0.000048</td>\n",
       "      <td>2.563850e-05</td>\n",
       "      <td>0.000053</td>\n",
       "      <td>5.467728e-05</td>\n",
       "      <td>0.000245</td>\n",
       "      <td>0.000063</td>\n",
       "      <td>0.000028</td>\n",
       "    </tr>\n",
       "    <tr>\n",
       "      <td>PE&amp;OLES*</td>\n",
       "      <td>0.000061</td>\n",
       "      <td>2.184248e-05</td>\n",
       "      <td>0.000059</td>\n",
       "      <td>1.267608e-04</td>\n",
       "      <td>0.000063</td>\n",
       "      <td>0.000548</td>\n",
       "      <td>0.000053</td>\n",
       "    </tr>\n",
       "    <tr>\n",
       "      <td>ALPEKA</td>\n",
       "      <td>0.000047</td>\n",
       "      <td>1.577429e-05</td>\n",
       "      <td>0.000038</td>\n",
       "      <td>5.173850e-05</td>\n",
       "      <td>0.000028</td>\n",
       "      <td>0.000053</td>\n",
       "      <td>0.000270</td>\n",
       "    </tr>\n",
       "  </tbody>\n",
       "</table>\n",
       "</div>"
      ],
      "text/plain": [
       "             ASURB      ELEKTRA*      GAPB      GMEXICOB   KIMBERA  PE&OLES*  \\\n",
       "ASURB     0.000224  2.436981e-05  0.000132  6.284605e-05  0.000048  0.000061   \n",
       "ELEKTRA*  0.000024  4.283130e-04  0.000017 -7.371033e-07  0.000026  0.000022   \n",
       "GAPB      0.000132  1.683988e-05  0.000233  6.983020e-05  0.000053  0.000059   \n",
       "GMEXICOB  0.000063 -7.371033e-07  0.000070  3.251424e-04  0.000055  0.000127   \n",
       "KIMBERA   0.000048  2.563850e-05  0.000053  5.467728e-05  0.000245  0.000063   \n",
       "PE&OLES*  0.000061  2.184248e-05  0.000059  1.267608e-04  0.000063  0.000548   \n",
       "ALPEKA    0.000047  1.577429e-05  0.000038  5.173850e-05  0.000028  0.000053   \n",
       "\n",
       "            ALPEKA  \n",
       "ASURB     0.000047  \n",
       "ELEKTRA*  0.000016  \n",
       "GAPB      0.000038  \n",
       "GMEXICOB  0.000052  \n",
       "KIMBERA   0.000028  \n",
       "PE&OLES*  0.000053  \n",
       "ALPEKA    0.000270  "
      ]
     },
     "execution_count": 10,
     "metadata": {},
     "output_type": "execute_result"
    }
   ],
   "source": [
    "print('Matriz varianza-covarianza')\n",
    "rend.cov()"
   ]
  },
  {
   "cell_type": "markdown",
   "metadata": {},
   "source": [
    "## Utilizando los rendimientos esperados bajo el modelo CAPM, construye: "
   ]
  },
  {
   "cell_type": "code",
   "execution_count": 11,
   "metadata": {},
   "outputs": [],
   "source": [
    "def rend_esp(pond): return np.dot(mean,pond)\n",
    "def var(series): return series.var() * 252\n",
    "def vol(pond): return np.sqrt(np.dot(pond.T,np.dot(cov,pond)))\n",
    "def pstats(pond):\n",
    "    pret = rend_esp(pond)\n",
    "    pvol = vol(pond)\n",
    "    return np.array([pret,pvol,(pret-rf)/pvol])\n",
    "def min_sharpe(pond):\n",
    "    return -pstats(pond)[2]"
   ]
  },
  {
   "cell_type": "markdown",
   "metadata": {},
   "source": [
    "### Con ventas en corto "
   ]
  },
  {
   "cell_type": "code",
   "execution_count": 12,
   "metadata": {},
   "outputs": [],
   "source": [
    "short = True"
   ]
  },
  {
   "cell_type": "markdown",
   "metadata": {},
   "source": [
    "Simulación"
   ]
  },
  {
   "cell_type": "code",
   "execution_count": 13,
   "metadata": {},
   "outputs": [],
   "source": [
    "rend = (np.log(market / market.shift())).dropna()\n",
    "rend_M = rend\n",
    "rend = rend.drop(['MEXBOL'],axis=1)\n",
    "mean = [rf + pr * x for x in betas]\n",
    "cov = rend.cov() * 252\n",
    "n = len(titulos)\n",
    "sh = -1 if short else 0"
   ]
  },
  {
   "cell_type": "code",
   "execution_count": 14,
   "metadata": {},
   "outputs": [],
   "source": [
    "prets = []\n",
    "pvols = []\n",
    "\n",
    "for p in range(int(5e4)):\n",
    "    pond = np.random.random(n)\n",
    "    pond /= np.sum(pond)\n",
    "    prets.append(rend_esp(pond))\n",
    "    pvols.append(vol(pond))\n",
    "    \n",
    "prets = np.array(prets)\n",
    "pvols = np.array(pvols)"
   ]
  },
  {
   "cell_type": "code",
   "execution_count": 15,
   "metadata": {},
   "outputs": [],
   "source": [
    "frontera = np.linspace(min(mean)*.75,max(mean)*1.25,1000)\n",
    "rendsf = []\n",
    "volsf = []\n",
    "\n",
    "for p in frontera:\n",
    "    cons = ({'type': 'eq', 'fun': lambda x: 1 - np.sum(x) },\n",
    "           {'type': 'eq', 'fun': lambda x: np.sum(x * mean) - p })\n",
    "    bnds = tuple((sh,1) for x in range(n))\n",
    "    opts2 = sco.minimize(vol, n * [1. / n], method = 'SLSQP', bounds = bnds, constraints = cons)\n",
    "    opt2 = pstats(opts2['x'])\n",
    "    rendsv = opt2[0]\n",
    "    volsv = opt2[1]\n",
    "    rendsf.append(rendsv)\n",
    "    volsf.append(volsv)\n",
    "rendsf = np.array(rendsf)\n",
    "volsf = np.array(volsf)"
   ]
  },
  {
   "cell_type": "markdown",
   "metadata": {},
   "source": [
    "## Encuentra el portafolio riesgoso óptimo (maximiza el coeficiente de Sharpe) "
   ]
  },
  {
   "cell_type": "code",
   "execution_count": 16,
   "metadata": {},
   "outputs": [
    {
     "name": "stdout",
     "output_type": "stream",
     "text": [
      "Rendimiento esperado: 13.91%\n",
      "Volatilidad: 15.44%\n",
      "Sharpe: 0.5769\n",
      "-----------------------------\n"
     ]
    },
    {
     "data": {
      "text/html": [
       "<style  type=\"text/css\" >\n",
       "</style><table id=\"T_994c7090_b382_11ea_8501_107b44df9533\" ><thead>    <tr>        <th class=\"blank level0\" ></th>        <th class=\"col_heading level0 col0\" >ASURB</th>        <th class=\"col_heading level0 col1\" >ELEKTRA*</th>        <th class=\"col_heading level0 col2\" >GAPB</th>        <th class=\"col_heading level0 col3\" >GMEXICOB</th>        <th class=\"col_heading level0 col4\" >KIMBERA</th>        <th class=\"col_heading level0 col5\" >PE&OLES*</th>        <th class=\"col_heading level0 col6\" >ALPEKA</th>    </tr></thead><tbody>\n",
       "                <tr>\n",
       "                        <th id=\"T_994c7090_b382_11ea_8501_107b44df9533level0_row0\" class=\"row_heading level0 row0\" >Peso</th>\n",
       "                        <td id=\"T_994c7090_b382_11ea_8501_107b44df9533row0_col0\" class=\"data row0 col0\" >18.23%</td>\n",
       "                        <td id=\"T_994c7090_b382_11ea_8501_107b44df9533row0_col1\" class=\"data row0 col1\" >5.53%</td>\n",
       "                        <td id=\"T_994c7090_b382_11ea_8501_107b44df9533row0_col2\" class=\"data row0 col2\" >17.30%</td>\n",
       "                        <td id=\"T_994c7090_b382_11ea_8501_107b44df9533row0_col3\" class=\"data row0 col3\" >21.65%</td>\n",
       "                        <td id=\"T_994c7090_b382_11ea_8501_107b44df9533row0_col4\" class=\"data row0 col4\" >19.61%</td>\n",
       "                        <td id=\"T_994c7090_b382_11ea_8501_107b44df9533row0_col5\" class=\"data row0 col5\" >7.37%</td>\n",
       "                        <td id=\"T_994c7090_b382_11ea_8501_107b44df9533row0_col6\" class=\"data row0 col6\" >10.32%</td>\n",
       "            </tr>\n",
       "    </tbody></table>"
      ],
      "text/plain": [
       "<pandas.io.formats.style.Styler at 0x1edb019d948>"
      ]
     },
     "execution_count": 16,
     "metadata": {},
     "output_type": "execute_result"
    }
   ],
   "source": [
    "cons = ({'type': 'eq', 'fun': lambda x: 1 -np.sum(x) })\n",
    "bnds = tuple((sh,1) for x in range(n))\n",
    "opts = sco.minimize(min_sharpe, n * [1. / n], method = 'SLSQP', bounds = bnds, constraints = cons)\n",
    "sharpe_opt = pstats(opts['x'])\n",
    "R_esp = sharpe_opt[0]\n",
    "print('Rendimiento esperado: {:.2%}\\nVolatilidad: {:.2%}\\nSharpe: {:.4}'.format(sharpe_opt[0],sharpe_opt[1],sharpe_opt[2]))\n",
    "print('-----------------------------')\n",
    "pesos = pd.DataFrame([x for x in opts['x']],index=titulos,columns=['Peso']).T\n",
    "pesos.style.format(\"{:.2%}\")"
   ]
  },
  {
   "cell_type": "code",
   "execution_count": 17,
   "metadata": {},
   "outputs": [],
   "source": [
    "u = np.linspace(0,sharpe_opt[1]*2,10)\n",
    "u_ = [rf + sharpe_opt[2] * u]"
   ]
  },
  {
   "cell_type": "code",
   "execution_count": 18,
   "metadata": {},
   "outputs": [
    {
     "data": {
      "image/png": "[encoded data removed]",
      "text/plain": [
       "<Figure size 1152x576 with 2 Axes>"
      ]
     },
     "metadata": {
      "needs_background": "light"
     },
     "output_type": "display_data"
    }
   ],
   "source": [
    "plt.figure(figsize=(16,8))\n",
    "plt.scatter(pvols,prets,c=(prets-rf) / pvols, marker = 'o',s = 4,cmap = 'twilight',alpha = 0.6)\n",
    "plt.scatter(volsf,rendsf,c= (rendsf-rf) / volsf, marker = '.',s = 4,cmap = 'twilight',alpha = 0.6)\n",
    "plt.scatter(sharpe_opt[1],sharpe_opt[0], marker = 'x',s = 50,cmap = 'twilight',alpha = 1)\n",
    "plt.scatter(0,rf,marker='D',s=30)\n",
    "plt.plot(u,u_[0],c='black',alpha=.4,linestyle = '--') \n",
    "plt.grid(True)\n",
    "plt.xlabel('Volatilidad')\n",
    "plt.ylabel('Rendimientos')\n",
    "plt.colorbar(label = 'Coeficiente Sharpe')\n",
    "plt.show()\n"
   ]
  },
  {
   "cell_type": "markdown",
   "metadata": {},
   "source": [
    "### Sin ventas en corto"
   ]
  },
  {
   "cell_type": "code",
   "execution_count": 19,
   "metadata": {},
   "outputs": [],
   "source": [
    "short = False"
   ]
  },
  {
   "cell_type": "markdown",
   "metadata": {},
   "source": [
    "Simulación"
   ]
  },
  {
   "cell_type": "code",
   "execution_count": 20,
   "metadata": {},
   "outputs": [],
   "source": [
    "rend = (np.log(market / market.shift())).dropna()\n",
    "rend_M = rend\n",
    "rend = rend.drop(['MEXBOL'],axis=1)\n",
    "mean = rend_capm = [rf + pr * x for x in betas]\n",
    "cov = rend.cov() * 252\n",
    "cov_d = rend.cov()\n",
    "n = len(titulos)\n",
    "sh = -1 if short else 0"
   ]
  },
  {
   "cell_type": "code",
   "execution_count": 21,
   "metadata": {},
   "outputs": [],
   "source": [
    "prets = []\n",
    "pvols = []\n",
    "\n",
    "for p in range(int(5e4)):\n",
    "    pond = np.random.random(n)\n",
    "    pond /= np.sum(pond)\n",
    "    prets.append(rend_esp(pond))\n",
    "    pvols.append(vol(pond))\n",
    "    \n",
    "prets = np.array(prets)\n",
    "pvols = np.array(pvols)"
   ]
  },
  {
   "cell_type": "code",
   "execution_count": 22,
   "metadata": {},
   "outputs": [],
   "source": [
    "frontera = np.linspace(min(mean)*.75,max(mean)*1.25,1000)\n",
    "rendsf = []\n",
    "volsf = []\n",
    "\n",
    "for p in frontera:\n",
    "    cons = ({'type': 'eq', 'fun': lambda x: 1 - np.sum(x) },\n",
    "           {'type': 'eq', 'fun': lambda x: np.sum(x * mean) - p })\n",
    "    bnds = tuple((sh,1) for x in range(n))\n",
    "    opts2 = sco.minimize(vol, n * [1. / n], method = 'SLSQP', bounds = bnds, constraints = cons)\n",
    "    opt2 = pstats(opts2['x'])\n",
    "    rendsv = opt2[0]\n",
    "    volsv = opt2[1]\n",
    "    rendsf.append(rendsv)\n",
    "    volsf.append(volsv)\n",
    "rendsf = np.array(rendsf)\n",
    "volsf = np.array(volsf)"
   ]
  },
  {
   "cell_type": "markdown",
   "metadata": {},
   "source": [
    "## Encuentra el portafolio riesgoso óptimo (maximiza el coeficiente de Sharpe) "
   ]
  },
  {
   "cell_type": "code",
   "execution_count": 23,
   "metadata": {},
   "outputs": [
    {
     "name": "stdout",
     "output_type": "stream",
     "text": [
      "Rendimiento esperado: 13.91%\n",
      "Volatilidad: 15.44%\n",
      "Sharpe: 0.5769\n",
      "-----------------------------\n"
     ]
    },
    {
     "data": {
      "text/html": [
       "<style  type=\"text/css\" >\n",
       "</style><table id=\"T_a0e31bf6_b382_11ea_b8cd_107b44df9533\" ><thead>    <tr>        <th class=\"blank level0\" ></th>        <th class=\"col_heading level0 col0\" >ASURB</th>        <th class=\"col_heading level0 col1\" >ELEKTRA*</th>        <th class=\"col_heading level0 col2\" >GAPB</th>        <th class=\"col_heading level0 col3\" >GMEXICOB</th>        <th class=\"col_heading level0 col4\" >KIMBERA</th>        <th class=\"col_heading level0 col5\" >PE&OLES*</th>        <th class=\"col_heading level0 col6\" >ALPEKA</th>    </tr></thead><tbody>\n",
       "                <tr>\n",
       "                        <th id=\"T_a0e31bf6_b382_11ea_b8cd_107b44df9533level0_row0\" class=\"row_heading level0 row0\" >Peso</th>\n",
       "                        <td id=\"T_a0e31bf6_b382_11ea_b8cd_107b44df9533row0_col0\" class=\"data row0 col0\" >18.25%</td>\n",
       "                        <td id=\"T_a0e31bf6_b382_11ea_b8cd_107b44df9533row0_col1\" class=\"data row0 col1\" >5.51%</td>\n",
       "                        <td id=\"T_a0e31bf6_b382_11ea_b8cd_107b44df9533row0_col2\" class=\"data row0 col2\" >17.26%</td>\n",
       "                        <td id=\"T_a0e31bf6_b382_11ea_b8cd_107b44df9533row0_col3\" class=\"data row0 col3\" >21.63%</td>\n",
       "                        <td id=\"T_a0e31bf6_b382_11ea_b8cd_107b44df9533row0_col4\" class=\"data row0 col4\" >19.60%</td>\n",
       "                        <td id=\"T_a0e31bf6_b382_11ea_b8cd_107b44df9533row0_col5\" class=\"data row0 col5\" >7.40%</td>\n",
       "                        <td id=\"T_a0e31bf6_b382_11ea_b8cd_107b44df9533row0_col6\" class=\"data row0 col6\" >10.36%</td>\n",
       "            </tr>\n",
       "    </tbody></table>"
      ],
      "text/plain": [
       "<pandas.io.formats.style.Styler at 0x1edb34880c8>"
      ]
     },
     "execution_count": 23,
     "metadata": {},
     "output_type": "execute_result"
    }
   ],
   "source": [
    "cons = ({'type': 'eq', 'fun': lambda x: 1 -np.sum(x) })\n",
    "bnds = tuple((sh,1) for x in range(n))\n",
    "opts = sco.minimize(min_sharpe, n * [1. / n], method = 'SLSQP', bounds = bnds, constraints = cons)\n",
    "sharpe_opt = pstats(opts['x'])\n",
    "R_esp = sharpe_opt[0]\n",
    "print('Rendimiento esperado: {:.2%}\\nVolatilidad: {:.2%}\\nSharpe: {:.4}'.format(sharpe_opt[0],sharpe_opt[1],sharpe_opt[2]))\n",
    "print('-----------------------------')\n",
    "pesos = pd.DataFrame([x for x in opts['x']],index=titulos,columns=['Peso']).T\n",
    "pesos.style.format(\"{:.2%}\")"
   ]
  },
  {
   "cell_type": "code",
   "execution_count": 24,
   "metadata": {},
   "outputs": [],
   "source": [
    "u = np.linspace(0,sharpe_opt[1]*2,10)\n",
    "u_ = [rf + sharpe_opt[2] * u]"
   ]
  },
  {
   "cell_type": "code",
   "execution_count": 25,
   "metadata": {},
   "outputs": [
    {
     "data": {
      "image/png": "[encoded data removed]",
      "text/plain": [
       "<Figure size 1152x576 with 2 Axes>"
      ]
     },
     "metadata": {
      "needs_background": "light"
     },
     "output_type": "display_data"
    }
   ],
   "source": [
    "plt.figure(figsize=(16,8))\n",
    "plt.scatter(pvols,prets,c=(prets-rf) / pvols, marker = 'o',s = 4,cmap = 'twilight',alpha = 0.6)\n",
    "plt.scatter(volsf,rendsf,c= (rendsf-rf) / volsf, marker = '.',s = 4,cmap = 'twilight',alpha = 0.6)\n",
    "plt.scatter(sharpe_opt[1],sharpe_opt[0], marker = 'x',s = 50,cmap = 'twilight',alpha = 1)\n",
    "plt.scatter(0,rf,marker='D',s=30)\n",
    "plt.plot(u,u_[0],c='black',alpha=.4,linestyle = '--') \n",
    "plt.grid(True)\n",
    "plt.xlabel('Volatilidad')\n",
    "plt.ylabel('Rendimientos')\n",
    "plt.colorbar(label = 'Coeficiente Sharpe')\n",
    "plt.show()\n"
   ]
  },
  {
   "cell_type": "markdown",
   "metadata": {},
   "source": [
    "## Calcula el VaR paramétrico del portafolio riesgoso óptimo (1 día, 95% de confianza)"
   ]
  },
  {
   "cell_type": "code",
   "execution_count": 26,
   "metadata": {},
   "outputs": [],
   "source": [
    "def VaR(mi,confianza,temp = 'diaria'):\n",
    "    a = np.sqrt(np.dot(pond.T,np.dot(cov,pond)))\n",
    "    d = np.sqrt(np.dot(pond.T,np.dot(cov_d,pond)))\n",
    "    pvol = d if temp == 'diaria' else a\n",
    "    VaR = mi * norm.ppf(0.95) * pvol\n",
    "    return VaR,temp"
   ]
  },
  {
   "cell_type": "code",
   "execution_count": 27,
   "metadata": {},
   "outputs": [
    {
     "name": "stdout",
     "output_type": "stream",
     "text": [
      "El VaR diaria es 169,583.44\n"
     ]
    }
   ],
   "source": [
    "print('El VaR {} es {:,.2f}'.format(VaR(mi,0.95 ,temp = 'diaria')[1],VaR(mi,0.95 ,temp = 'diaria')[0]))"
   ]
  },
  {
   "cell_type": "markdown",
   "metadata": {},
   "source": [
    "### BONUS POINT: \n",
    "Elige los porcentajes a invertir en el portafolio riesgoso óptimo y el activo\n",
    "libre de riesgo (maximizar la función de utilidad)\n"
   ]
  },
  {
   "cell_type": "code",
   "execution_count": 28,
   "metadata": {},
   "outputs": [],
   "source": [
    "# el óptimo para este ejercicio es sin opción a cortos (short = False)"
   ]
  },
  {
   "cell_type": "code",
   "execution_count": 29,
   "metadata": {},
   "outputs": [],
   "source": [
    "def maxut(A): return (sharpe_opt[0] - rf) /  (A * sharpe_opt[1]**2)\n",
    "def maxut2(A): return pr /  (A * sharpe_opt[1])\n",
    "def rend_tot(y): return (1-y) * rf + y * sharpe_opt[0]\n",
    "def std_tot(y): return y * sharpe_opt[1]"
   ]
  },
  {
   "cell_type": "code",
   "execution_count": 30,
   "metadata": {},
   "outputs": [
    {
     "name": "stdout",
     "output_type": "stream",
     "text": [
      " y* donde se maximiza la utilidad: 124.576%\n"
     ]
    }
   ],
   "source": [
    "A = 3\n",
    "y = maxut(A)\n",
    "print(' y* donde se maximiza la utilidad: {:.3%}'.format(y))"
   ]
  },
  {
   "cell_type": "code",
   "execution_count": 31,
   "metadata": {},
   "outputs": [
    {
     "name": "stdout",
     "output_type": "stream",
     "text": [
      "Portafolio completo\n",
      "--------------------------\n",
      "Rendimiento Pc: 16.10%\n",
      "Std Pc: 19.23%\n"
     ]
    }
   ],
   "source": [
    "print('Portafolio completo')\n",
    "print('--------------------------')\n",
    "print('Rendimiento Pc: {:.2%}'.format(rend_tot(y)))\n",
    "print('Std Pc: {:.2%}'.format(std_tot(y)))"
   ]
  },
  {
   "cell_type": "code",
   "execution_count": 32,
   "metadata": {},
   "outputs": [
    {
     "data": {
      "text/html": [
       "<style  type=\"text/css\" >\n",
       "</style><table id=\"T_a1dfa218_b382_11ea_a40d_107b44df9533\" ><thead>    <tr>        <th class=\"blank level0\" ></th>        <th class=\"col_heading level0 col0\" >Peso</th>        <th class=\"col_heading level0 col1\" >peso_Pc</th>    </tr></thead><tbody>\n",
       "                <tr>\n",
       "                        <th id=\"T_a1dfa218_b382_11ea_a40d_107b44df9533level0_row0\" class=\"row_heading level0 row0\" >ASURB</th>\n",
       "                        <td id=\"T_a1dfa218_b382_11ea_a40d_107b44df9533row0_col0\" class=\"data row0 col0\" >18.25%</td>\n",
       "                        <td id=\"T_a1dfa218_b382_11ea_a40d_107b44df9533row0_col1\" class=\"data row0 col1\" >22.73%</td>\n",
       "            </tr>\n",
       "            <tr>\n",
       "                        <th id=\"T_a1dfa218_b382_11ea_a40d_107b44df9533level0_row1\" class=\"row_heading level0 row1\" >ELEKTRA*</th>\n",
       "                        <td id=\"T_a1dfa218_b382_11ea_a40d_107b44df9533row1_col0\" class=\"data row1 col0\" >5.51%</td>\n",
       "                        <td id=\"T_a1dfa218_b382_11ea_a40d_107b44df9533row1_col1\" class=\"data row1 col1\" >6.86%</td>\n",
       "            </tr>\n",
       "            <tr>\n",
       "                        <th id=\"T_a1dfa218_b382_11ea_a40d_107b44df9533level0_row2\" class=\"row_heading level0 row2\" >GAPB</th>\n",
       "                        <td id=\"T_a1dfa218_b382_11ea_a40d_107b44df9533row2_col0\" class=\"data row2 col0\" >17.26%</td>\n",
       "                        <td id=\"T_a1dfa218_b382_11ea_a40d_107b44df9533row2_col1\" class=\"data row2 col1\" >21.50%</td>\n",
       "            </tr>\n",
       "            <tr>\n",
       "                        <th id=\"T_a1dfa218_b382_11ea_a40d_107b44df9533level0_row3\" class=\"row_heading level0 row3\" >GMEXICOB</th>\n",
       "                        <td id=\"T_a1dfa218_b382_11ea_a40d_107b44df9533row3_col0\" class=\"data row3 col0\" >21.63%</td>\n",
       "                        <td id=\"T_a1dfa218_b382_11ea_a40d_107b44df9533row3_col1\" class=\"data row3 col1\" >26.95%</td>\n",
       "            </tr>\n",
       "            <tr>\n",
       "                        <th id=\"T_a1dfa218_b382_11ea_a40d_107b44df9533level0_row4\" class=\"row_heading level0 row4\" >KIMBERA</th>\n",
       "                        <td id=\"T_a1dfa218_b382_11ea_a40d_107b44df9533row4_col0\" class=\"data row4 col0\" >19.60%</td>\n",
       "                        <td id=\"T_a1dfa218_b382_11ea_a40d_107b44df9533row4_col1\" class=\"data row4 col1\" >24.41%</td>\n",
       "            </tr>\n",
       "            <tr>\n",
       "                        <th id=\"T_a1dfa218_b382_11ea_a40d_107b44df9533level0_row5\" class=\"row_heading level0 row5\" >PE&OLES*</th>\n",
       "                        <td id=\"T_a1dfa218_b382_11ea_a40d_107b44df9533row5_col0\" class=\"data row5 col0\" >7.40%</td>\n",
       "                        <td id=\"T_a1dfa218_b382_11ea_a40d_107b44df9533row5_col1\" class=\"data row5 col1\" >9.22%</td>\n",
       "            </tr>\n",
       "            <tr>\n",
       "                        <th id=\"T_a1dfa218_b382_11ea_a40d_107b44df9533level0_row6\" class=\"row_heading level0 row6\" >ALPEKA</th>\n",
       "                        <td id=\"T_a1dfa218_b382_11ea_a40d_107b44df9533row6_col0\" class=\"data row6 col0\" >10.36%</td>\n",
       "                        <td id=\"T_a1dfa218_b382_11ea_a40d_107b44df9533row6_col1\" class=\"data row6 col1\" >12.90%</td>\n",
       "            </tr>\n",
       "            <tr>\n",
       "                        <th id=\"T_a1dfa218_b382_11ea_a40d_107b44df9533level0_row7\" class=\"row_heading level0 row7\" >LibreRiesgo</th>\n",
       "                        <td id=\"T_a1dfa218_b382_11ea_a40d_107b44df9533row7_col0\" class=\"data row7 col0\" >0.00%</td>\n",
       "                        <td id=\"T_a1dfa218_b382_11ea_a40d_107b44df9533row7_col1\" class=\"data row7 col1\" >-24.58%</td>\n",
       "            </tr>\n",
       "    </tbody></table>"
      ],
      "text/plain": [
       "<pandas.io.formats.style.Styler at 0x1edb38d91c8>"
      ]
     },
     "execution_count": 32,
     "metadata": {},
     "output_type": "execute_result"
    }
   ],
   "source": [
    "pesosopt = pd.DataFrame([x for x in opts['x']],index=titulos,columns=['Peso'])\n",
    "PtfComp = pd.DataFrame({\n",
    "    'Titulos': titulos,\n",
    "    'Peso':[x for x in opts['x']],\n",
    "    'peso_Pc': [x * y for x in opts['x']]\n",
    "})\n",
    "PtfComp.set_index('Titulos',inplace=True)\n",
    "j = [[0,1-y]]\n",
    "j = pd.DataFrame(j,columns = PtfComp.columns,index = ['LibreRiesgo'])\n",
    "PtfComp = pd.concat([PtfComp,j])\n",
    "PtfComp\n",
    "PtfComp.style.format(\"{:.2%}\")"
   ]
  },
  {
   "cell_type": "code",
   "execution_count": null,
   "metadata": {},
   "outputs": [],
   "source": []
  }
 ],
 "metadata": {
  "kernelspec": {
   "display_name": "Python 3",
   "language": "python",
   "name": "python3"
  },
  "language_info": {
   "codemirror_mode": {
    "name": "ipython",
    "version": 3
   },
   "file_extension": ".py",
   "mimetype": "text/x-python",
   "name": "python",
   "nbconvert_exporter": "python",
   "pygments_lexer": "ipython3",
   "version": "3.7.4"
  }
 },
 "nbformat": 4,
 "nbformat_minor": 2
}
